{
 "cells": [
  {
   "cell_type": "code",
   "execution_count": 1,
   "id": "opponent-track",
   "metadata": {},
   "outputs": [],
   "source": [
    "import seaborn as sns\n",
    "import pandas as pd\n",
    "import matplotlib.pyplot as plt\n",
    "import numpy as np\n",
    "sns.set_style('whitegrid')\n",
    "%matplotlib inline\n",
    "import warnings\n",
    "warnings.filterwarnings('ignore')"
   ]
  },
  {
   "cell_type": "code",
   "execution_count": 2,
   "id": "manual-bridge",
   "metadata": {},
   "outputs": [
    {
     "data": {
      "text/html": [
       "<div>\n",
       "<style scoped>\n",
       "    .dataframe tbody tr th:only-of-type {\n",
       "        vertical-align: middle;\n",
       "    }\n",
       "\n",
       "    .dataframe tbody tr th {\n",
       "        vertical-align: top;\n",
       "    }\n",
       "\n",
       "    .dataframe thead th {\n",
       "        text-align: right;\n",
       "    }\n",
       "</style>\n",
       "<table border=\"1\" class=\"dataframe\">\n",
       "  <thead>\n",
       "    <tr style=\"text-align: right;\">\n",
       "      <th></th>\n",
       "      <th>Cliente</th>\n",
       "      <th>KG</th>\n",
       "      <th>Precio_Unit_Venta</th>\n",
       "      <th>Ganancia_USD</th>\n",
       "      <th>Ganancia_MXN</th>\n",
       "      <th>Costo_Unit_Manufactura</th>\n",
       "      <th>lbs</th>\n",
       "      <th>Costo_Tot_Manufactura</th>\n",
       "      <th>pca1</th>\n",
       "      <th>pca2</th>\n",
       "      <th>cluster</th>\n",
       "    </tr>\n",
       "  </thead>\n",
       "  <tbody>\n",
       "    <tr>\n",
       "      <th>0</th>\n",
       "      <td>1</td>\n",
       "      <td>5399.0</td>\n",
       "      <td>4094.36</td>\n",
       "      <td>42496.00</td>\n",
       "      <td>816789.32</td>\n",
       "      <td>2559.95</td>\n",
       "      <td>11902.0955</td>\n",
       "      <td>491796.17</td>\n",
       "      <td>-0.637993</td>\n",
       "      <td>-0.170813</td>\n",
       "      <td>2</td>\n",
       "    </tr>\n",
       "    <tr>\n",
       "      <th>1</th>\n",
       "      <td>2</td>\n",
       "      <td>1923.0</td>\n",
       "      <td>7182.77</td>\n",
       "      <td>35754.40</td>\n",
       "      <td>649150.79</td>\n",
       "      <td>3169.48</td>\n",
       "      <td>4239.2535</td>\n",
       "      <td>321781.87</td>\n",
       "      <td>-0.666888</td>\n",
       "      <td>-0.186961</td>\n",
       "      <td>2</td>\n",
       "    </tr>\n",
       "    <tr>\n",
       "      <th>2</th>\n",
       "      <td>3</td>\n",
       "      <td>60500.0</td>\n",
       "      <td>586.71</td>\n",
       "      <td>138255.00</td>\n",
       "      <td>2654764.62</td>\n",
       "      <td>533.02</td>\n",
       "      <td>133372.2496</td>\n",
       "      <td>2411309.79</td>\n",
       "      <td>0.242013</td>\n",
       "      <td>-0.146453</td>\n",
       "      <td>2</td>\n",
       "    </tr>\n",
       "    <tr>\n",
       "      <th>3</th>\n",
       "      <td>4</td>\n",
       "      <td>51496.0</td>\n",
       "      <td>4756.88</td>\n",
       "      <td>270176.60</td>\n",
       "      <td>5248130.06</td>\n",
       "      <td>3219.81</td>\n",
       "      <td>113522.9320</td>\n",
       "      <td>3581450.13</td>\n",
       "      <td>0.438514</td>\n",
       "      <td>-0.097625</td>\n",
       "      <td>2</td>\n",
       "    </tr>\n",
       "    <tr>\n",
       "      <th>4</th>\n",
       "      <td>5</td>\n",
       "      <td>66800.0</td>\n",
       "      <td>40559.83</td>\n",
       "      <td>630345.06</td>\n",
       "      <td>12143551.40</td>\n",
       "      <td>27189.82</td>\n",
       "      <td>147260.6000</td>\n",
       "      <td>8109220.99</td>\n",
       "      <td>2.021976</td>\n",
       "      <td>-0.215646</td>\n",
       "      <td>3</td>\n",
       "    </tr>\n",
       "    <tr>\n",
       "      <th>...</th>\n",
       "      <td>...</td>\n",
       "      <td>...</td>\n",
       "      <td>...</td>\n",
       "      <td>...</td>\n",
       "      <td>...</td>\n",
       "      <td>...</td>\n",
       "      <td>...</td>\n",
       "      <td>...</td>\n",
       "      <td>...</td>\n",
       "      <td>...</td>\n",
       "      <td>...</td>\n",
       "    </tr>\n",
       "    <tr>\n",
       "      <th>140</th>\n",
       "      <td>152</td>\n",
       "      <td>5650.0</td>\n",
       "      <td>1565.18</td>\n",
       "      <td>17783.00</td>\n",
       "      <td>344812.68</td>\n",
       "      <td>1235.29</td>\n",
       "      <td>12455.4250</td>\n",
       "      <td>275278.10</td>\n",
       "      <td>-0.719242</td>\n",
       "      <td>-0.166719</td>\n",
       "      <td>2</td>\n",
       "    </tr>\n",
       "    <tr>\n",
       "      <th>141</th>\n",
       "      <td>153</td>\n",
       "      <td>3265.0</td>\n",
       "      <td>563.84</td>\n",
       "      <td>254404.00</td>\n",
       "      <td>254404.00</td>\n",
       "      <td>475.77</td>\n",
       "      <td>7197.6925</td>\n",
       "      <td>219588.18</td>\n",
       "      <td>-0.752573</td>\n",
       "      <td>-0.015281</td>\n",
       "      <td>2</td>\n",
       "    </tr>\n",
       "    <tr>\n",
       "      <th>142</th>\n",
       "      <td>154</td>\n",
       "      <td>8920.0</td>\n",
       "      <td>16006.14</td>\n",
       "      <td>1755670.25</td>\n",
       "      <td>1755670.25</td>\n",
       "      <td>10608.02</td>\n",
       "      <td>19664.1400</td>\n",
       "      <td>1313668.87</td>\n",
       "      <td>-0.082380</td>\n",
       "      <td>0.740198</td>\n",
       "      <td>2</td>\n",
       "    </tr>\n",
       "    <tr>\n",
       "      <th>143</th>\n",
       "      <td>155</td>\n",
       "      <td>3375.0</td>\n",
       "      <td>10011.62</td>\n",
       "      <td>60445.00</td>\n",
       "      <td>1160469.84</td>\n",
       "      <td>8152.23</td>\n",
       "      <td>7440.1875</td>\n",
       "      <td>935536.63</td>\n",
       "      <td>-0.478510</td>\n",
       "      <td>-0.221476</td>\n",
       "      <td>2</td>\n",
       "    </tr>\n",
       "    <tr>\n",
       "      <th>144</th>\n",
       "      <td>156</td>\n",
       "      <td>6225.0</td>\n",
       "      <td>3343.43</td>\n",
       "      <td>45274.75</td>\n",
       "      <td>875262.58</td>\n",
       "      <td>2286.15</td>\n",
       "      <td>13723.0125</td>\n",
       "      <td>601408.49</td>\n",
       "      <td>-0.626583</td>\n",
       "      <td>-0.166338</td>\n",
       "      <td>2</td>\n",
       "    </tr>\n",
       "  </tbody>\n",
       "</table>\n",
       "<p>145 rows × 11 columns</p>\n",
       "</div>"
      ],
      "text/plain": [
       "     Cliente       KG  Precio_Unit_Venta  Ganancia_USD  Ganancia_MXN  \\\n",
       "0          1   5399.0            4094.36      42496.00     816789.32   \n",
       "1          2   1923.0            7182.77      35754.40     649150.79   \n",
       "2          3  60500.0             586.71     138255.00    2654764.62   \n",
       "3          4  51496.0            4756.88     270176.60    5248130.06   \n",
       "4          5  66800.0           40559.83     630345.06   12143551.40   \n",
       "..       ...      ...                ...           ...           ...   \n",
       "140      152   5650.0            1565.18      17783.00     344812.68   \n",
       "141      153   3265.0             563.84     254404.00     254404.00   \n",
       "142      154   8920.0           16006.14    1755670.25    1755670.25   \n",
       "143      155   3375.0           10011.62      60445.00    1160469.84   \n",
       "144      156   6225.0            3343.43      45274.75     875262.58   \n",
       "\n",
       "     Costo_Unit_Manufactura          lbs  Costo_Tot_Manufactura      pca1  \\\n",
       "0                   2559.95   11902.0955              491796.17 -0.637993   \n",
       "1                   3169.48    4239.2535              321781.87 -0.666888   \n",
       "2                    533.02  133372.2496             2411309.79  0.242013   \n",
       "3                   3219.81  113522.9320             3581450.13  0.438514   \n",
       "4                  27189.82  147260.6000             8109220.99  2.021976   \n",
       "..                      ...          ...                    ...       ...   \n",
       "140                 1235.29   12455.4250              275278.10 -0.719242   \n",
       "141                  475.77    7197.6925              219588.18 -0.752573   \n",
       "142                10608.02   19664.1400             1313668.87 -0.082380   \n",
       "143                 8152.23    7440.1875              935536.63 -0.478510   \n",
       "144                 2286.15   13723.0125              601408.49 -0.626583   \n",
       "\n",
       "         pca2  cluster  \n",
       "0   -0.170813        2  \n",
       "1   -0.186961        2  \n",
       "2   -0.146453        2  \n",
       "3   -0.097625        2  \n",
       "4   -0.215646        3  \n",
       "..        ...      ...  \n",
       "140 -0.166719        2  \n",
       "141 -0.015281        2  \n",
       "142  0.740198        2  \n",
       "143 -0.221476        2  \n",
       "144 -0.166338        2  \n",
       "\n",
       "[145 rows x 11 columns]"
      ]
     },
     "execution_count": 2,
     "metadata": {},
     "output_type": "execute_result"
    }
   ],
   "source": [
    "df_c = pd.read_csv('Clusters_Clientes_KM.csv')\n",
    "df_c"
   ]
  },
  {
   "cell_type": "code",
   "execution_count": 3,
   "id": "residential-appointment",
   "metadata": {},
   "outputs": [
    {
     "data": {
      "text/plain": [
       "Cliente                     int64\n",
       "KG                        float64\n",
       "Precio_Unit_Venta         float64\n",
       "Ganancia_USD              float64\n",
       "Ganancia_MXN              float64\n",
       "Costo_Unit_Manufactura    float64\n",
       "lbs                       float64\n",
       "Costo_Tot_Manufactura     float64\n",
       "pca1                      float64\n",
       "pca2                      float64\n",
       "cluster                     int64\n",
       "dtype: object"
      ]
     },
     "execution_count": 3,
     "metadata": {},
     "output_type": "execute_result"
    }
   ],
   "source": [
    "df_c.dtypes"
   ]
  },
  {
   "cell_type": "code",
   "execution_count": 4,
   "id": "motivated-cartridge",
   "metadata": {},
   "outputs": [
    {
     "data": {
      "text/html": [
       "<div>\n",
       "<style scoped>\n",
       "    .dataframe tbody tr th:only-of-type {\n",
       "        vertical-align: middle;\n",
       "    }\n",
       "\n",
       "    .dataframe tbody tr th {\n",
       "        vertical-align: top;\n",
       "    }\n",
       "\n",
       "    .dataframe thead th {\n",
       "        text-align: right;\n",
       "    }\n",
       "</style>\n",
       "<table border=\"1\" class=\"dataframe\">\n",
       "  <thead>\n",
       "    <tr style=\"text-align: right;\">\n",
       "      <th></th>\n",
       "      <th>cluster</th>\n",
       "      <th>0</th>\n",
       "      <th>1</th>\n",
       "      <th>2</th>\n",
       "      <th>3</th>\n",
       "    </tr>\n",
       "  </thead>\n",
       "  <tbody>\n",
       "    <tr>\n",
       "      <th rowspan=\"8\" valign=\"top\">KG</th>\n",
       "      <th>count</th>\n",
       "      <td>3.00</td>\n",
       "      <td>1.00</td>\n",
       "      <td>129.00</td>\n",
       "      <td>12.00</td>\n",
       "    </tr>\n",
       "    <tr>\n",
       "      <th>mean</th>\n",
       "      <td>60686.33</td>\n",
       "      <td>485953.00</td>\n",
       "      <td>10227.14</td>\n",
       "      <td>165670.50</td>\n",
       "    </tr>\n",
       "    <tr>\n",
       "      <th>std</th>\n",
       "      <td>14808.86</td>\n",
       "      <td>NaN</td>\n",
       "      <td>17677.76</td>\n",
       "      <td>77893.38</td>\n",
       "    </tr>\n",
       "    <tr>\n",
       "      <th>min</th>\n",
       "      <td>48000.00</td>\n",
       "      <td>485953.00</td>\n",
       "      <td>25.00</td>\n",
       "      <td>66800.00</td>\n",
       "    </tr>\n",
       "    <tr>\n",
       "      <th>25%</th>\n",
       "      <td>52550.00</td>\n",
       "      <td>485953.00</td>\n",
       "      <td>357.00</td>\n",
       "      <td>104521.25</td>\n",
       "    </tr>\n",
       "    <tr>\n",
       "      <th>50%</th>\n",
       "      <td>57100.00</td>\n",
       "      <td>485953.00</td>\n",
       "      <td>2025.00</td>\n",
       "      <td>145976.00</td>\n",
       "    </tr>\n",
       "    <tr>\n",
       "      <th>75%</th>\n",
       "      <td>67029.50</td>\n",
       "      <td>485953.00</td>\n",
       "      <td>9244.00</td>\n",
       "      <td>195531.00</td>\n",
       "    </tr>\n",
       "    <tr>\n",
       "      <th>max</th>\n",
       "      <td>76959.00</td>\n",
       "      <td>485953.00</td>\n",
       "      <td>82752.00</td>\n",
       "      <td>319820.00</td>\n",
       "    </tr>\n",
       "    <tr>\n",
       "      <th rowspan=\"8\" valign=\"top\">Ganancia_MXN</th>\n",
       "      <th>count</th>\n",
       "      <td>3.00</td>\n",
       "      <td>1.00</td>\n",
       "      <td>129.00</td>\n",
       "      <td>12.00</td>\n",
       "    </tr>\n",
       "    <tr>\n",
       "      <th>mean</th>\n",
       "      <td>10746634.52</td>\n",
       "      <td>77759354.36</td>\n",
       "      <td>1230144.65</td>\n",
       "      <td>15199498.35</td>\n",
       "    </tr>\n",
       "    <tr>\n",
       "      <th>std</th>\n",
       "      <td>3117225.50</td>\n",
       "      <td>NaN</td>\n",
       "      <td>2422733.82</td>\n",
       "      <td>11575165.85</td>\n",
       "    </tr>\n",
       "    <tr>\n",
       "      <th>min</th>\n",
       "      <td>8717095.95</td>\n",
       "      <td>77759354.36</td>\n",
       "      <td>1787.04</td>\n",
       "      <td>4961870.42</td>\n",
       "    </tr>\n",
       "    <tr>\n",
       "      <th>25%</th>\n",
       "      <td>8952021.78</td>\n",
       "      <td>77759354.36</td>\n",
       "      <td>72874.31</td>\n",
       "      <td>8255218.66</td>\n",
       "    </tr>\n",
       "    <tr>\n",
       "      <th>50%</th>\n",
       "      <td>9186947.62</td>\n",
       "      <td>77759354.36</td>\n",
       "      <td>254404.00</td>\n",
       "      <td>12689786.49</td>\n",
       "    </tr>\n",
       "    <tr>\n",
       "      <th>75%</th>\n",
       "      <td>11761403.81</td>\n",
       "      <td>77759354.36</td>\n",
       "      <td>1169221.73</td>\n",
       "      <td>15976534.11</td>\n",
       "    </tr>\n",
       "    <tr>\n",
       "      <th>max</th>\n",
       "      <td>14335860.00</td>\n",
       "      <td>77759354.36</td>\n",
       "      <td>20590298.00</td>\n",
       "      <td>48907335.25</td>\n",
       "    </tr>\n",
       "  </tbody>\n",
       "</table>\n",
       "</div>"
      ],
      "text/plain": [
       "cluster                       0            1            2            3\n",
       "KG           count         3.00         1.00       129.00        12.00\n",
       "             mean      60686.33    485953.00     10227.14    165670.50\n",
       "             std       14808.86          NaN     17677.76     77893.38\n",
       "             min       48000.00    485953.00        25.00     66800.00\n",
       "             25%       52550.00    485953.00       357.00    104521.25\n",
       "             50%       57100.00    485953.00      2025.00    145976.00\n",
       "             75%       67029.50    485953.00      9244.00    195531.00\n",
       "             max       76959.00    485953.00     82752.00    319820.00\n",
       "Ganancia_MXN count         3.00         1.00       129.00        12.00\n",
       "             mean   10746634.52  77759354.36   1230144.65  15199498.35\n",
       "             std     3117225.50          NaN   2422733.82  11575165.85\n",
       "             min     8717095.95  77759354.36      1787.04   4961870.42\n",
       "             25%     8952021.78  77759354.36     72874.31   8255218.66\n",
       "             50%     9186947.62  77759354.36    254404.00  12689786.49\n",
       "             75%    11761403.81  77759354.36   1169221.73  15976534.11\n",
       "             max    14335860.00  77759354.36  20590298.00  48907335.25"
      ]
     },
     "execution_count": 4,
     "metadata": {},
     "output_type": "execute_result"
    }
   ],
   "source": [
    "df_c.groupby('cluster')[['KG','Ganancia_MXN']].describe().T.round(2)"
   ]
  },
  {
   "cell_type": "code",
   "execution_count": 5,
   "id": "established-operation",
   "metadata": {},
   "outputs": [
    {
     "data": {
      "text/html": [
       "<div>\n",
       "<style scoped>\n",
       "    .dataframe tbody tr th:only-of-type {\n",
       "        vertical-align: middle;\n",
       "    }\n",
       "\n",
       "    .dataframe tbody tr th {\n",
       "        vertical-align: top;\n",
       "    }\n",
       "\n",
       "    .dataframe thead th {\n",
       "        text-align: right;\n",
       "    }\n",
       "</style>\n",
       "<table border=\"1\" class=\"dataframe\">\n",
       "  <thead>\n",
       "    <tr style=\"text-align: right;\">\n",
       "      <th></th>\n",
       "      <th>cluster</th>\n",
       "      <th>0</th>\n",
       "      <th>1</th>\n",
       "      <th>2</th>\n",
       "      <th>3</th>\n",
       "    </tr>\n",
       "  </thead>\n",
       "  <tbody>\n",
       "    <tr>\n",
       "      <th rowspan=\"8\" valign=\"top\">Precio_Unit_Venta</th>\n",
       "      <th>count</th>\n",
       "      <td>3.00</td>\n",
       "      <td>1.00</td>\n",
       "      <td>129.00</td>\n",
       "      <td>12.00</td>\n",
       "    </tr>\n",
       "    <tr>\n",
       "      <th>mean</th>\n",
       "      <td>29388.49</td>\n",
       "      <td>492409.22</td>\n",
       "      <td>3962.81</td>\n",
       "      <td>12759.39</td>\n",
       "    </tr>\n",
       "    <tr>\n",
       "      <th>std</th>\n",
       "      <td>38430.62</td>\n",
       "      <td>NaN</td>\n",
       "      <td>7867.81</td>\n",
       "      <td>15817.30</td>\n",
       "    </tr>\n",
       "    <tr>\n",
       "      <th>min</th>\n",
       "      <td>3278.63</td>\n",
       "      <td>492409.22</td>\n",
       "      <td>58.27</td>\n",
       "      <td>1169.62</td>\n",
       "    </tr>\n",
       "    <tr>\n",
       "      <th>25%</th>\n",
       "      <td>7323.82</td>\n",
       "      <td>492409.22</td>\n",
       "      <td>406.87</td>\n",
       "      <td>1881.36</td>\n",
       "    </tr>\n",
       "    <tr>\n",
       "      <th>50%</th>\n",
       "      <td>11369.01</td>\n",
       "      <td>492409.22</td>\n",
       "      <td>1224.28</td>\n",
       "      <td>4635.02</td>\n",
       "    </tr>\n",
       "    <tr>\n",
       "      <th>75%</th>\n",
       "      <td>42443.42</td>\n",
       "      <td>492409.22</td>\n",
       "      <td>3162.79</td>\n",
       "      <td>17558.05</td>\n",
       "    </tr>\n",
       "    <tr>\n",
       "      <th>max</th>\n",
       "      <td>73517.83</td>\n",
       "      <td>492409.22</td>\n",
       "      <td>65142.97</td>\n",
       "      <td>43891.09</td>\n",
       "    </tr>\n",
       "    <tr>\n",
       "      <th rowspan=\"8\" valign=\"top\">Costo_Unit_Manufactura</th>\n",
       "      <th>count</th>\n",
       "      <td>3.00</td>\n",
       "      <td>1.00</td>\n",
       "      <td>129.00</td>\n",
       "      <td>12.00</td>\n",
       "    </tr>\n",
       "    <tr>\n",
       "      <th>mean</th>\n",
       "      <td>21466.80</td>\n",
       "      <td>330280.31</td>\n",
       "      <td>2543.99</td>\n",
       "      <td>7461.36</td>\n",
       "    </tr>\n",
       "    <tr>\n",
       "      <th>std</th>\n",
       "      <td>29370.43</td>\n",
       "      <td>NaN</td>\n",
       "      <td>4845.45</td>\n",
       "      <td>9798.20</td>\n",
       "    </tr>\n",
       "    <tr>\n",
       "      <th>min</th>\n",
       "      <td>658.48</td>\n",
       "      <td>330280.31</td>\n",
       "      <td>0.00</td>\n",
       "      <td>984.01</td>\n",
       "    </tr>\n",
       "    <tr>\n",
       "      <th>25%</th>\n",
       "      <td>4668.57</td>\n",
       "      <td>330280.31</td>\n",
       "      <td>292.93</td>\n",
       "      <td>1524.14</td>\n",
       "    </tr>\n",
       "    <tr>\n",
       "      <th>50%</th>\n",
       "      <td>8678.67</td>\n",
       "      <td>330280.31</td>\n",
       "      <td>764.70</td>\n",
       "      <td>3360.97</td>\n",
       "    </tr>\n",
       "    <tr>\n",
       "      <th>75%</th>\n",
       "      <td>31870.96</td>\n",
       "      <td>330280.31</td>\n",
       "      <td>2286.15</td>\n",
       "      <td>6114.63</td>\n",
       "    </tr>\n",
       "    <tr>\n",
       "      <th>max</th>\n",
       "      <td>55063.25</td>\n",
       "      <td>330280.31</td>\n",
       "      <td>38996.74</td>\n",
       "      <td>28371.83</td>\n",
       "    </tr>\n",
       "  </tbody>\n",
       "</table>\n",
       "</div>"
      ],
      "text/plain": [
       "cluster                              0          1         2         3\n",
       "Precio_Unit_Venta      count      3.00       1.00    129.00     12.00\n",
       "                       mean   29388.49  492409.22   3962.81  12759.39\n",
       "                       std    38430.62        NaN   7867.81  15817.30\n",
       "                       min     3278.63  492409.22     58.27   1169.62\n",
       "                       25%     7323.82  492409.22    406.87   1881.36\n",
       "                       50%    11369.01  492409.22   1224.28   4635.02\n",
       "                       75%    42443.42  492409.22   3162.79  17558.05\n",
       "                       max    73517.83  492409.22  65142.97  43891.09\n",
       "Costo_Unit_Manufactura count      3.00       1.00    129.00     12.00\n",
       "                       mean   21466.80  330280.31   2543.99   7461.36\n",
       "                       std    29370.43        NaN   4845.45   9798.20\n",
       "                       min      658.48  330280.31      0.00    984.01\n",
       "                       25%     4668.57  330280.31    292.93   1524.14\n",
       "                       50%     8678.67  330280.31    764.70   3360.97\n",
       "                       75%    31870.96  330280.31   2286.15   6114.63\n",
       "                       max    55063.25  330280.31  38996.74  28371.83"
      ]
     },
     "execution_count": 5,
     "metadata": {},
     "output_type": "execute_result"
    }
   ],
   "source": [
    "df_c.groupby('cluster')[['Precio_Unit_Venta','Costo_Unit_Manufactura']].describe().T.round(2)"
   ]
  },
  {
   "cell_type": "code",
   "execution_count": 6,
   "id": "aggressive-collection",
   "metadata": {},
   "outputs": [
    {
     "data": {
      "image/png": "[encoded data removed]",
      "text/plain": [
       "<Figure size 432x288 with 1 Axes>"
      ]
     },
     "metadata": {
      "needs_background": "light"
     },
     "output_type": "display_data"
    }
   ],
   "source": [
    "df_c2= df_c.drop(df_c[df_c['cluster'] != 2].index)\n",
    "df_c2 = df_c2.reset_index(drop=True)\n",
    "\n",
    "box_c2_KG = sns.boxplot(x = df_c2['KG'], palette = \"Accent\")\n",
    "box_c2_KG.set(xlabel = 'KG', title = 'Distribución KG vendidos Clientes del Cluster 2');"
   ]
  },
  {
   "cell_type": "code",
   "execution_count": 7,
   "id": "decreased-pittsburgh",
   "metadata": {},
   "outputs": [
    {
     "data": {
      "image/png": "[encoded data removed]",
      "text/plain": [
       "<Figure size 432x288 with 1 Axes>"
      ]
     },
     "metadata": {
      "needs_background": "light"
     },
     "output_type": "display_data"
    }
   ],
   "source": [
    "box_c2_GMXN = sns.boxplot(x = df_c2['Ganancia_MXN'], palette = \"Dark2\")\n",
    "box_c2_GMXN.set(xlabel = 'Ganancia_MXN', title = 'Distribución Ganancia_MXN de Clientes del Cluster 2');"
   ]
  },
  {
   "cell_type": "code",
   "execution_count": 8,
   "id": "meaningful-practice",
   "metadata": {},
   "outputs": [
    {
     "data": {
      "image/png": "[encoded data removed]",
      "text/plain": [
       "<Figure size 432x288 with 1 Axes>"
      ]
     },
     "metadata": {
      "needs_background": "light"
     },
     "output_type": "display_data"
    }
   ],
   "source": [
    "df_c3= df_c.drop(df_c[df_c['cluster'] != 3].index)\n",
    "df_c3 = df_c3.reset_index(drop=True)\n",
    "#df_c3_no_outlyer_KG = df_c3[df_c3['KG'] < 400000]\n",
    "\n",
    "box_c3_KG = sns.boxplot(x = df_c3['KG'], palette = \"cool\")\n",
    "box_c3_KG.set(xlabel = 'KG', title = 'Distribución KG vendidos Clientes del Cluster 3');"
   ]
  },
  {
   "cell_type": "code",
   "execution_count": 9,
   "id": "completed-zoning",
   "metadata": {},
   "outputs": [
    {
     "data": {
      "image/png": "[encoded data removed]",
      "text/plain": [
       "<Figure size 432x288 with 1 Axes>"
      ]
     },
     "metadata": {
      "needs_background": "light"
     },
     "output_type": "display_data"
    }
   ],
   "source": [
    "#df_c3_no_outlyer_GMXN = df_c3[df_c3['Ganancia_MXN'] < 30000000]\n",
    "box_c3_GMXN = sns.boxplot(x = df_c3['Ganancia_MXN'], palette = \"Blues_r\")\n",
    "box_c3_GMXN.set(xlabel = 'Ganancia_MXN', title = 'Distribución Ganancia_MXN de Clientes del Cluster 2');"
   ]
  },
  {
   "cell_type": "code",
   "execution_count": 10,
   "id": "fallen-nothing",
   "metadata": {},
   "outputs": [
    {
     "data": {
      "image/png": "[encoded data removed]",
      "text/plain": [
       "<Figure size 432x288 with 1 Axes>"
      ]
     },
     "metadata": {
      "needs_background": "light"
     },
     "output_type": "display_data"
    }
   ],
   "source": [
    "df_c0= df_c.drop(df_c[df_c['cluster'] != 0].index)\n",
    "df_c0 = df_c0.reset_index(drop=True)\n",
    "#df_c3_no_outlyer_KG = df_c3[df_c3['KG'] < 70000]\n",
    "\n",
    "box_c0_KG = sns.boxplot(x = df_c0['KG'], palette = \"Wistia\")\n",
    "box_c0_KG.set(xlabel = 'KG', title = 'Distribución KG vendidos Clientes del Cluster 0');"
   ]
  },
  {
   "cell_type": "code",
   "execution_count": 11,
   "id": "confirmed-finnish",
   "metadata": {},
   "outputs": [
    {
     "data": {
      "image/png": "[encoded data removed]",
      "text/plain": [
       "<Figure size 432x288 with 1 Axes>"
      ]
     },
     "metadata": {
      "needs_background": "light"
     },
     "output_type": "display_data"
    }
   ],
   "source": [
    "#df_c3_no_outlyer_GMXN = df_c3[df_c3['Ganancia_MXN'] < 20000000]\n",
    "box_c0_GMXN = sns.boxplot(x = df_c0['Ganancia_MXN'], palette = \"Oranges\")\n",
    "box_c0_GMXN.set(xlabel = 'Ganancia_MXN', title = 'Distribución Ganancia_MXN de Clientes del Cluster 0');"
   ]
  },
  {
   "cell_type": "code",
   "execution_count": 12,
   "id": "unique-pendant",
   "metadata": {},
   "outputs": [
    {
     "data": {
      "text/html": [
       "<div>\n",
       "<style scoped>\n",
       "    .dataframe tbody tr th:only-of-type {\n",
       "        vertical-align: middle;\n",
       "    }\n",
       "\n",
       "    .dataframe tbody tr th {\n",
       "        vertical-align: top;\n",
       "    }\n",
       "\n",
       "    .dataframe thead th {\n",
       "        text-align: right;\n",
       "    }\n",
       "</style>\n",
       "<table border=\"1\" class=\"dataframe\">\n",
       "  <thead>\n",
       "    <tr style=\"text-align: right;\">\n",
       "      <th></th>\n",
       "      <th>cluster</th>\n",
       "      <th>Cliente</th>\n",
       "    </tr>\n",
       "  </thead>\n",
       "  <tbody>\n",
       "    <tr>\n",
       "      <th>0</th>\n",
       "      <td>0</td>\n",
       "      <td>47</td>\n",
       "    </tr>\n",
       "    <tr>\n",
       "      <th>1</th>\n",
       "      <td>0</td>\n",
       "      <td>118</td>\n",
       "    </tr>\n",
       "    <tr>\n",
       "      <th>2</th>\n",
       "      <td>0</td>\n",
       "      <td>140</td>\n",
       "    </tr>\n",
       "  </tbody>\n",
       "</table>\n",
       "</div>"
      ],
      "text/plain": [
       "   cluster  Cliente\n",
       "0        0       47\n",
       "1        0      118\n",
       "2        0      140"
      ]
     },
     "execution_count": 12,
     "metadata": {},
     "output_type": "execute_result"
    }
   ],
   "source": [
    "df_0 = df_c[df_c['cluster'] == 0]\n",
    "df_0 = df_0.reset_index(drop=True)\n",
    "df_0 = df_0[['cluster','Cliente']]\n",
    "df_0"
   ]
  },
  {
   "cell_type": "code",
   "execution_count": 13,
   "id": "extended-qatar",
   "metadata": {},
   "outputs": [
    {
     "data": {
      "text/html": [
       "<div>\n",
       "<style scoped>\n",
       "    .dataframe tbody tr th:only-of-type {\n",
       "        vertical-align: middle;\n",
       "    }\n",
       "\n",
       "    .dataframe tbody tr th {\n",
       "        vertical-align: top;\n",
       "    }\n",
       "\n",
       "    .dataframe thead th {\n",
       "        text-align: right;\n",
       "    }\n",
       "</style>\n",
       "<table border=\"1\" class=\"dataframe\">\n",
       "  <thead>\n",
       "    <tr style=\"text-align: right;\">\n",
       "      <th></th>\n",
       "      <th>cluster</th>\n",
       "      <th>Cliente</th>\n",
       "    </tr>\n",
       "  </thead>\n",
       "  <tbody>\n",
       "    <tr>\n",
       "      <th>0</th>\n",
       "      <td>1</td>\n",
       "      <td>6</td>\n",
       "    </tr>\n",
       "  </tbody>\n",
       "</table>\n",
       "</div>"
      ],
      "text/plain": [
       "   cluster  Cliente\n",
       "0        1        6"
      ]
     },
     "execution_count": 13,
     "metadata": {},
     "output_type": "execute_result"
    }
   ],
   "source": [
    "df_1 = df_c[df_c['cluster'] == 1]\n",
    "df_1 = df_1.reset_index(drop=True)\n",
    "df_1 = df_1[['cluster','Cliente']]\n",
    "df_1"
   ]
  },
  {
   "cell_type": "code",
   "execution_count": 14,
   "id": "familiar-campaign",
   "metadata": {},
   "outputs": [
    {
     "data": {
      "text/html": [
       "<div>\n",
       "<style scoped>\n",
       "    .dataframe tbody tr th:only-of-type {\n",
       "        vertical-align: middle;\n",
       "    }\n",
       "\n",
       "    .dataframe tbody tr th {\n",
       "        vertical-align: top;\n",
       "    }\n",
       "\n",
       "    .dataframe thead th {\n",
       "        text-align: right;\n",
       "    }\n",
       "</style>\n",
       "<table border=\"1\" class=\"dataframe\">\n",
       "  <thead>\n",
       "    <tr style=\"text-align: right;\">\n",
       "      <th></th>\n",
       "      <th>cluster</th>\n",
       "      <th>Cliente</th>\n",
       "    </tr>\n",
       "  </thead>\n",
       "  <tbody>\n",
       "    <tr>\n",
       "      <th>0</th>\n",
       "      <td>2</td>\n",
       "      <td>1</td>\n",
       "    </tr>\n",
       "    <tr>\n",
       "      <th>1</th>\n",
       "      <td>2</td>\n",
       "      <td>2</td>\n",
       "    </tr>\n",
       "    <tr>\n",
       "      <th>2</th>\n",
       "      <td>2</td>\n",
       "      <td>3</td>\n",
       "    </tr>\n",
       "    <tr>\n",
       "      <th>3</th>\n",
       "      <td>2</td>\n",
       "      <td>4</td>\n",
       "    </tr>\n",
       "    <tr>\n",
       "      <th>4</th>\n",
       "      <td>2</td>\n",
       "      <td>8</td>\n",
       "    </tr>\n",
       "    <tr>\n",
       "      <th>...</th>\n",
       "      <td>...</td>\n",
       "      <td>...</td>\n",
       "    </tr>\n",
       "    <tr>\n",
       "      <th>124</th>\n",
       "      <td>2</td>\n",
       "      <td>152</td>\n",
       "    </tr>\n",
       "    <tr>\n",
       "      <th>125</th>\n",
       "      <td>2</td>\n",
       "      <td>153</td>\n",
       "    </tr>\n",
       "    <tr>\n",
       "      <th>126</th>\n",
       "      <td>2</td>\n",
       "      <td>154</td>\n",
       "    </tr>\n",
       "    <tr>\n",
       "      <th>127</th>\n",
       "      <td>2</td>\n",
       "      <td>155</td>\n",
       "    </tr>\n",
       "    <tr>\n",
       "      <th>128</th>\n",
       "      <td>2</td>\n",
       "      <td>156</td>\n",
       "    </tr>\n",
       "  </tbody>\n",
       "</table>\n",
       "<p>129 rows × 2 columns</p>\n",
       "</div>"
      ],
      "text/plain": [
       "     cluster  Cliente\n",
       "0          2        1\n",
       "1          2        2\n",
       "2          2        3\n",
       "3          2        4\n",
       "4          2        8\n",
       "..       ...      ...\n",
       "124        2      152\n",
       "125        2      153\n",
       "126        2      154\n",
       "127        2      155\n",
       "128        2      156\n",
       "\n",
       "[129 rows x 2 columns]"
      ]
     },
     "execution_count": 14,
     "metadata": {},
     "output_type": "execute_result"
    }
   ],
   "source": [
    "df_2 = df_c[df_c['cluster'] == 2]\n",
    "df_2 = df_2.reset_index(drop=True)\n",
    "df_2 = df_2[['cluster','Cliente']]\n",
    "df_2"
   ]
  },
  {
   "cell_type": "code",
   "execution_count": 15,
   "id": "vietnamese-example",
   "metadata": {},
   "outputs": [
    {
     "data": {
      "text/html": [
       "<div>\n",
       "<style scoped>\n",
       "    .dataframe tbody tr th:only-of-type {\n",
       "        vertical-align: middle;\n",
       "    }\n",
       "\n",
       "    .dataframe tbody tr th {\n",
       "        vertical-align: top;\n",
       "    }\n",
       "\n",
       "    .dataframe thead th {\n",
       "        text-align: right;\n",
       "    }\n",
       "</style>\n",
       "<table border=\"1\" class=\"dataframe\">\n",
       "  <thead>\n",
       "    <tr style=\"text-align: right;\">\n",
       "      <th></th>\n",
       "      <th>cluster</th>\n",
       "      <th>Cliente</th>\n",
       "    </tr>\n",
       "  </thead>\n",
       "  <tbody>\n",
       "    <tr>\n",
       "      <th>0</th>\n",
       "      <td>3</td>\n",
       "      <td>5</td>\n",
       "    </tr>\n",
       "    <tr>\n",
       "      <th>1</th>\n",
       "      <td>3</td>\n",
       "      <td>7</td>\n",
       "    </tr>\n",
       "    <tr>\n",
       "      <th>2</th>\n",
       "      <td>3</td>\n",
       "      <td>13</td>\n",
       "    </tr>\n",
       "    <tr>\n",
       "      <th>3</th>\n",
       "      <td>3</td>\n",
       "      <td>14</td>\n",
       "    </tr>\n",
       "    <tr>\n",
       "      <th>4</th>\n",
       "      <td>3</td>\n",
       "      <td>16</td>\n",
       "    </tr>\n",
       "    <tr>\n",
       "      <th>5</th>\n",
       "      <td>3</td>\n",
       "      <td>60</td>\n",
       "    </tr>\n",
       "    <tr>\n",
       "      <th>6</th>\n",
       "      <td>3</td>\n",
       "      <td>66</td>\n",
       "    </tr>\n",
       "    <tr>\n",
       "      <th>7</th>\n",
       "      <td>3</td>\n",
       "      <td>101</td>\n",
       "    </tr>\n",
       "    <tr>\n",
       "      <th>8</th>\n",
       "      <td>3</td>\n",
       "      <td>123</td>\n",
       "    </tr>\n",
       "    <tr>\n",
       "      <th>9</th>\n",
       "      <td>3</td>\n",
       "      <td>127</td>\n",
       "    </tr>\n",
       "    <tr>\n",
       "      <th>10</th>\n",
       "      <td>3</td>\n",
       "      <td>133</td>\n",
       "    </tr>\n",
       "    <tr>\n",
       "      <th>11</th>\n",
       "      <td>3</td>\n",
       "      <td>139</td>\n",
       "    </tr>\n",
       "  </tbody>\n",
       "</table>\n",
       "</div>"
      ],
      "text/plain": [
       "    cluster  Cliente\n",
       "0         3        5\n",
       "1         3        7\n",
       "2         3       13\n",
       "3         3       14\n",
       "4         3       16\n",
       "5         3       60\n",
       "6         3       66\n",
       "7         3      101\n",
       "8         3      123\n",
       "9         3      127\n",
       "10        3      133\n",
       "11        3      139"
      ]
     },
     "execution_count": 15,
     "metadata": {},
     "output_type": "execute_result"
    }
   ],
   "source": [
    "df_3 = df_c[df_c['cluster'] == 3]\n",
    "df_3 = df_3.reset_index(drop=True)\n",
    "df_3 = df_3[['cluster','Cliente']]\n",
    "df_3"
   ]
  },
  {
   "cell_type": "markdown",
   "id": "round-wisdom",
   "metadata": {},
   "source": [
    "#### Gráfica de Porcentajes"
   ]
  },
  {
   "cell_type": "code",
   "execution_count": 16,
   "id": "cultural-error",
   "metadata": {},
   "outputs": [
    {
     "name": "stdout",
     "output_type": "stream",
     "text": [
      "(145,)\n",
      "   y_variable  percentage_count\n",
      "3           1          0.006897\n",
      "2           0          0.020690\n",
      "1           3          0.082759\n",
      "0           2          0.889655\n"
     ]
    },
    {
     "data": {
      "image/png": "[encoded data removed]",
      "text/plain": [
       "<Figure size 432x288 with 1 Axes>"
      ]
     },
     "metadata": {
      "needs_background": "light"
     },
     "output_type": "display_data"
    }
   ],
   "source": [
    "y = df_c['cluster']\n",
    "print(y.shape)\n",
    "print(y.value_counts(normalize = True)\n",
    "      .reset_index().rename(columns = {'index': 'y_variable', 'cluster': 'percentage_count'})\n",
    "      .sort_values(by = \"percentage_count\"))\n",
    "labels, counts = np.unique(y, return_counts=True)\n",
    "plt.bar(labels, counts, align='center', color = \"c\")\n",
    "plt.title(\"Frecuencia Clusters\")\n",
    "plt.xlabel(\"Cluster\")\n",
    "plt.ylabel(\"Counts\")\n",
    "plt.xticks(labels)\n",
    "plt.show()"
   ]
  },
  {
   "cell_type": "code",
   "execution_count": 17,
   "id": "emerging-brooklyn",
   "metadata": {},
   "outputs": [
    {
     "data": {
      "image/png": "[encoded data removed]",
      "text/plain": [
       "<Figure size 432x288 with 1 Axes>"
      ]
     },
     "metadata": {
      "needs_background": "light"
     },
     "output_type": "display_data"
    }
   ],
   "source": [
    "y_binary = np.where(y != 2 , 1, 0 ) # Esta será nuestra nueva variable objetivo.\n",
    "# Ahora pasamos de un problema de clasificación múltiple a un problema de clasificación binario.\n",
    "\n",
    "labels, counts = np.unique(y_binary, return_counts=True)\n",
    "plt.bar(labels, counts, align='center', color = \"b\")\n",
    "plt.title(\"Categorías (binaria)\")\n",
    "plt.xlabel(\"Categoría\")\n",
    "plt.ylabel(\"Counts\")\n",
    "plt.xticks(labels)\n",
    "plt.show()"
   ]
  },
  {
   "cell_type": "code",
   "execution_count": 18,
   "id": "reserved-insulin",
   "metadata": {},
   "outputs": [],
   "source": [
    "df_c_dropped = df_c.drop(columns = ['cluster', 'Cliente','pca1','pca2'], axis = 1)"
   ]
  },
  {
   "cell_type": "code",
   "execution_count": 19,
   "id": "flying-incentive",
   "metadata": {},
   "outputs": [
    {
     "data": {
      "image/png": "[encoded data removed]",
      "text/plain": [
       "<Figure size 720x720 with 2 Axes>"
      ]
     },
     "metadata": {
      "needs_background": "light"
     },
     "output_type": "display_data"
    }
   ],
   "source": [
    "corr_spearman = df_c_dropped.corr(method = 'spearman')\n",
    "fig, ax = plt.subplots(figsize=(10, 10))\n",
    "sns.heatmap(corr_spearman, annot = True, fmt=\".3f\").set_title(\n",
    "    \"Spearman's correlation coefficient\")\n",
    "plt.show()"
   ]
  },
  {
   "cell_type": "code",
   "execution_count": 20,
   "id": "jewish-theory",
   "metadata": {},
   "outputs": [],
   "source": [
    "from sklearn.model_selection import train_test_split\n",
    "from sklearn.preprocessing import StandardScaler\n",
    "from sklearn.preprocessing import PowerTransformer"
   ]
  },
  {
   "cell_type": "code",
   "execution_count": 21,
   "id": "separate-project",
   "metadata": {},
   "outputs": [
    {
     "name": "stdout",
     "output_type": "stream",
     "text": [
      "(145, 7)\n",
      "                        count        mean         std      min       25%  \\\n",
      "KG                      145.0    27416.27    63914.15    25.00    525.00   \n",
      "Precio_Unit_Venta       145.0     8585.45    41831.24    58.27    531.31   \n",
      "Ganancia_USD            145.0   437629.16  1630203.16    91.25   5456.00   \n",
      "Ganancia_MXN            145.0  3110909.64  8416995.35  1787.04  80780.87   \n",
      "Costo_Unit_Manufactura  145.0     5602.70    28038.35     0.00    367.86   \n",
      "lbs                     145.0    60439.16   140898.75    55.11   1157.36   \n",
      "Costo_Tot_Manufactura   145.0  2081930.55  5544473.47     0.00  50577.36   \n",
      "\n",
      "                              50%         75%          max  \n",
      "KG                        3500.00    20850.00    485953.00  \n",
      "Precio_Unit_Venta         1453.29     4094.36    492409.22  \n",
      "Ganancia_USD             30250.00   230635.68  14335860.00  \n",
      "Ganancia_MXN            350185.30  2654764.62  77759354.36  \n",
      "Costo_Unit_Manufactura     966.67     2712.77    330280.31  \n",
      "lbs                       7715.75    45963.82   1071283.39  \n",
      "Costo_Tot_Manufactura   275278.10  1888455.98  56778530.82  \n"
     ]
    }
   ],
   "source": [
    "X = df_c_dropped\n",
    "print(X.shape)\n",
    "print(X.describe().T.round(2))"
   ]
  },
  {
   "cell_type": "code",
   "execution_count": 22,
   "id": "express-metropolitan",
   "metadata": {},
   "outputs": [
    {
     "name": "stdout",
     "output_type": "stream",
     "text": [
      "   count  mean  std   min   25%   50%   75%   max\n",
      "0  145.0   0.0  1.0 -1.90 -0.71  0.06  0.79  2.11\n",
      "1  145.0  -0.0  1.0 -2.17 -0.60  0.03  0.63  2.85\n",
      "2  145.0   0.0  0.0  0.00  0.00  0.00  0.00  0.00\n",
      "3  145.0   0.0  1.0 -2.30 -0.71 -0.08  0.82  2.37\n",
      "4  145.0   0.0  1.0 -3.80 -0.57 -0.02  0.57  3.42\n",
      "5  145.0   0.0  1.0 -1.91 -0.71  0.05  0.79  2.11\n",
      "6  145.0   0.0  1.0 -3.26 -0.73 -0.08  0.78  2.69\n"
     ]
    }
   ],
   "source": [
    "pt = PowerTransformer()\n",
    "X_scaled = pt.fit_transform(X)\n",
    "\n",
    "df_scaled = pd.DataFrame(X_scaled)\n",
    "print(df_scaled.describe().T.round(2))"
   ]
  },
  {
   "cell_type": "markdown",
   "id": "light-island",
   "metadata": {},
   "source": [
    "### Aprendizaje Supervisado"
   ]
  },
  {
   "cell_type": "code",
   "execution_count": 23,
   "id": "waiting-times",
   "metadata": {},
   "outputs": [
    {
     "name": "stdout",
     "output_type": "stream",
     "text": [
      "X_train shape: 108\n",
      "y_train shape: 108\n",
      "X_test shape:37\n",
      "y_test shape:37\n"
     ]
    }
   ],
   "source": [
    "X_train, X_test, y_train, y_test = train_test_split(X_scaled, y_binary, test_size = 0.25, random_state = 22)\n",
    "\n",
    "print(\"X_train shape: \"+str(X_train.shape[0]), \"y_train shape: \"+str(y_train.shape[0]), sep = \"\\n\")\n",
    "print(\"X_test shape:\"+str(X_test.shape[0]), \"y_test shape:\"+str(y_test.shape[0]), sep = \"\\n\")"
   ]
  },
  {
   "cell_type": "code",
   "execution_count": 24,
   "id": "organized-finland",
   "metadata": {},
   "outputs": [],
   "source": [
    "from sklearn.metrics import confusion_matrix\n",
    "\n",
    "def calcularAccuracy(TP, TN, FP, FN):\n",
    "    accuracy = (TP + TN) / (TP + TN + FP + FN)\n",
    "    accuracy = accuracy * 100\n",
    "    return accuracy\n",
    "def calcularSensibilidad(TP, TN, FP, FN):\n",
    "    sensibilidad = TP / (TP + FN)\n",
    "    sensibilidad = sensibilidad * 100\n",
    "    return sensibilidad\n",
    "def calcularEspecificidad(TP, TN, FP, FN):\n",
    "    especificidad = TN / (TN + FP)\n",
    "    especificidad = especificidad * 100\n",
    "    return especificidad\n",
    "\n",
    "def evaluar(y_test, y_pred):\n",
    "    resultado = confusion_matrix(y_test, y_pred)\n",
    "    print(resultado)\n",
    "    (TN, FP, FN, TP) = resultado.ravel()\n",
    "    print(\"True positives: \"+str(TP))\n",
    "    print(\"True negatives: \"+str(TN))\n",
    "    print(\"False positives: \"+str(FP))\n",
    "    print(\"False negative: \"+str(FN))\n",
    "\n",
    "    acc = calcularAccuracy(TP, TN, FP, FN)\n",
    "    sen = calcularSensibilidad(TP, TN, FP, FN)\n",
    "    spec = calcularEspecificidad(TP, TN, FP, FN)\n",
    "    print(\"Precision:\"+str(acc.round(2))+\"%\")\n",
    "    print(\"Sensibilidad:\"+str(sen.round(2))+\"%\")\n",
    "    print(\"Especificidad:\"+str(spec.round(2))+\"%\")"
   ]
  },
  {
   "cell_type": "code",
   "execution_count": 25,
   "id": "banned-output",
   "metadata": {},
   "outputs": [
    {
     "name": "stdout",
     "output_type": "stream",
     "text": [
      "[[35  1]\n",
      " [ 0  1]]\n",
      "True positives: 1\n",
      "True negatives: 35\n",
      "False positives: 1\n",
      "False negative: 0\n",
      "Precision:97.3%\n",
      "Sensibilidad:100.0%\n",
      "Especificidad:97.22%\n"
     ]
    }
   ],
   "source": [
    "from sklearn.neighbors import KNeighborsClassifier\n",
    "\n",
    "KNN = KNeighborsClassifier() #Genera el modelo\n",
    "KNN.fit(X_train, y_train)   #Entrena el modelo\n",
    "y_pred_knn = KNN.predict(X_test)   #Genera la predicción\n",
    "evaluar(y_test, y_pred_knn)"
   ]
  },
  {
   "cell_type": "code",
   "execution_count": 26,
   "id": "chubby-objective",
   "metadata": {},
   "outputs": [
    {
     "name": "stdout",
     "output_type": "stream",
     "text": [
      "Precisión del modelo en el subconjunto de entrenamiento: 0.98\n",
      "Precisión del modelo en el subconjunto de prueba: 0.97\n"
     ]
    }
   ],
   "source": [
    "print(\"Precisión del modelo en el subconjunto de entrenamiento: {}\".format(KNN.score(X_train, y_train).round(2)))\n",
    "print(\"Precisión del modelo en el subconjunto de prueba: {}\".format(KNN.score(X_test, y_test).round(2)))"
   ]
  },
  {
   "cell_type": "code",
   "execution_count": 27,
   "id": "banner-secretary",
   "metadata": {},
   "outputs": [
    {
     "name": "stdout",
     "output_type": "stream",
     "text": [
      "[[34  2]\n",
      " [ 0  1]]\n",
      "True positives: 1\n",
      "True negatives: 34\n",
      "False positives: 2\n",
      "False negative: 0\n",
      "Precision:94.59%\n",
      "Sensibilidad:100.0%\n",
      "Especificidad:94.44%\n"
     ]
    }
   ],
   "source": [
    "from sklearn.naive_bayes import GaussianNB\n",
    "\n",
    "NaiveBayes = GaussianNB()\n",
    "NaiveBayes.fit(X_train, y_train) #Entrena el modelo\n",
    "y_pred_nb = NaiveBayes.predict(X_test) #Genera la predicción\n",
    "evaluar(y_test, y_pred_nb)"
   ]
  },
  {
   "cell_type": "code",
   "execution_count": 28,
   "id": "awful-placement",
   "metadata": {},
   "outputs": [
    {
     "name": "stdout",
     "output_type": "stream",
     "text": [
      "Precisión del modelo en el subconjunto de entrenamiento: 0.93\n",
      "Precisión del modelo en el subconjunto de prueba: 0.95\n"
     ]
    }
   ],
   "source": [
    "print(\"Precisión del modelo en el subconjunto de entrenamiento: {}\".format(NaiveBayes.score(X_train, y_train).round(2)))\n",
    "print(\"Precisión del modelo en el subconjunto de prueba: {}\".format(NaiveBayes.score(X_test, y_test).round(2)))"
   ]
  },
  {
   "cell_type": "code",
   "execution_count": 29,
   "id": "requested-palestine",
   "metadata": {},
   "outputs": [
    {
     "name": "stdout",
     "output_type": "stream",
     "text": [
      "[[35  1]\n",
      " [ 0  1]]\n",
      "True positives: 1\n",
      "True negatives: 35\n",
      "False positives: 1\n",
      "False negative: 0\n",
      "Precision:97.3%\n",
      "Sensibilidad:100.0%\n",
      "Especificidad:97.22%\n"
     ]
    }
   ],
   "source": [
    "from sklearn.linear_model import LogisticRegression\n",
    "\n",
    "LogisticRegression = LogisticRegression()\n",
    "LogisticRegression.fit(X_train, y_train) #Entrena el modelo\n",
    "y_pred_lr = LogisticRegression.predict(X_test) #Genera la predicción\n",
    "evaluar(y_test, y_pred_lr)"
   ]
  },
  {
   "cell_type": "code",
   "execution_count": 30,
   "id": "casual-evening",
   "metadata": {},
   "outputs": [
    {
     "name": "stdout",
     "output_type": "stream",
     "text": [
      "Precisión del modelo en el subconjunto de entrenamiento: 0.99\n",
      "Precisión del modelo en el subconjunto de prueba: 0.97\n"
     ]
    }
   ],
   "source": [
    "print(\"Precisión del modelo en el subconjunto de entrenamiento: {}\".format(LogisticRegression.score(X_train, y_train).round(2)))\n",
    "print(\"Precisión del modelo en el subconjunto de prueba: {}\".format(LogisticRegression.score(X_test, y_test).round(2)))"
   ]
  },
  {
   "cell_type": "code",
   "execution_count": 31,
   "id": "turned-corpus",
   "metadata": {},
   "outputs": [
    {
     "name": "stdout",
     "output_type": "stream",
     "text": [
      "[[36  0]\n",
      " [ 0  1]]\n",
      "True positives: 1\n",
      "True negatives: 36\n",
      "False positives: 0\n",
      "False negative: 0\n",
      "Precision:100.0%\n",
      "Sensibilidad:100.0%\n",
      "Especificidad:100.0%\n"
     ]
    }
   ],
   "source": [
    "from sklearn.svm import SVC\n",
    "\n",
    "SVC = SVC()\n",
    "SVC.fit(X_train, y_train) #Entrena el modelo\n",
    "y_pred_svc = SVC.predict(X_test) #Genera la predición\n",
    "evaluar(y_test, y_pred_svc)"
   ]
  },
  {
   "cell_type": "code",
   "execution_count": 32,
   "id": "tight-phase",
   "metadata": {},
   "outputs": [
    {
     "name": "stdout",
     "output_type": "stream",
     "text": [
      "Precisión del modelo en el subconjunto de entrenamiento: 0.98\n",
      "Precisión del modelo en el subconjunto de prueba: 1.0\n"
     ]
    }
   ],
   "source": [
    "print(\"Precisión del modelo en el subconjunto de entrenamiento: {}\".format(SVC.score(X_train, y_train).round(2)))\n",
    "print(\"Precisión del modelo en el subconjunto de prueba: {}\".format(SVC.score(X_test, y_test).round(2)))"
   ]
  },
  {
   "cell_type": "code",
   "execution_count": 33,
   "id": "soviet-recycling",
   "metadata": {},
   "outputs": [
    {
     "name": "stdout",
     "output_type": "stream",
     "text": [
      "[[35  1]\n",
      " [ 0  1]]\n",
      "True positives: 1\n",
      "True negatives: 35\n",
      "False positives: 1\n",
      "False negative: 0\n",
      "Precision:97.3%\n",
      "Sensibilidad:100.0%\n",
      "Especificidad:97.22%\n"
     ]
    }
   ],
   "source": [
    "from sklearn.ensemble import RandomForestClassifier\n",
    "\n",
    "RFC = RandomForestClassifier()\n",
    "RFC.fit(X_train, y_train) #Entrena el modelo\n",
    "y_pred_rfc = RFC.predict(X_test) #Genera la predicción\n",
    "evaluar(y_test, y_pred_rfc)"
   ]
  },
  {
   "cell_type": "code",
   "execution_count": 34,
   "id": "visible-street",
   "metadata": {},
   "outputs": [
    {
     "name": "stdout",
     "output_type": "stream",
     "text": [
      "Precisión del modelo en el subconjunto de entrenamiento: 1.0\n",
      "Precisión del modelo en el subconjunto de prueba: 0.97\n"
     ]
    }
   ],
   "source": [
    "print(\"Precisión del modelo en el subconjunto de entrenamiento: {}\".format(RFC.score(X_train, y_train).round(2)))\n",
    "print(\"Precisión del modelo en el subconjunto de prueba: {}\".format(RFC.score(X_test, y_test).round(2)))"
   ]
  },
  {
   "cell_type": "code",
   "execution_count": 35,
   "id": "inner-hospital",
   "metadata": {},
   "outputs": [
    {
     "name": "stdout",
     "output_type": "stream",
     "text": [
      "[[35  1]\n",
      " [ 0  1]]\n",
      "True positives: 1\n",
      "True negatives: 35\n",
      "False positives: 1\n",
      "False negative: 0\n",
      "Precision:97.3%\n",
      "Sensibilidad:100.0%\n",
      "Especificidad:97.22%\n"
     ]
    }
   ],
   "source": [
    "from sklearn.neural_network import MLPClassifier\n",
    "\n",
    "ANN = MLPClassifier()\n",
    "ANN.fit(X_train, y_train)\n",
    "y_pred_ann = ANN.predict(X_test)\n",
    "evaluar(y_test, y_pred_ann)"
   ]
  },
  {
   "cell_type": "code",
   "execution_count": 36,
   "id": "spectacular-capitol",
   "metadata": {},
   "outputs": [
    {
     "name": "stdout",
     "output_type": "stream",
     "text": [
      "Precisión del modelo en el subconjunto de entrenamiento: 0.96\n",
      "Precisión del modelo en el subconjunto de prueba: 0.97\n"
     ]
    }
   ],
   "source": [
    "print(\"Precisión del modelo en el subconjunto de entrenamiento: {}\".format(ANN.score(X_train, y_train).round(2)))\n",
    "print(\"Precisión del modelo en el subconjunto de prueba: {}\".format(ANN.score(X_test, y_test).round(2)))"
   ]
  },
  {
   "cell_type": "code",
   "execution_count": null,
   "id": "sitting-format",
   "metadata": {},
   "outputs": [],
   "source": []
  }
 ],
 "metadata": {
  "kernelspec": {
   "display_name": "Python 3",
   "language": "python",
   "name": "python3"
  },
  "language_info": {
   "codemirror_mode": {
    "name": "ipython",
    "version": 3
   },
   "file_extension": ".py",
   "mimetype": "text/x-python",
   "name": "python",
   "nbconvert_exporter": "python",
   "pygments_lexer": "ipython3",
   "version": "3.9.2"
  }
 },
 "nbformat": 4,
 "nbformat_minor": 5
}
