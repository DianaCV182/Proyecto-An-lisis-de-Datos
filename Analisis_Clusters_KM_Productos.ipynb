{
 "cells": [
  {
   "cell_type": "code",
   "execution_count": 1,
   "id": "italian-worcester",
   "metadata": {},
   "outputs": [],
   "source": [
    "import seaborn as sns\n",
    "import pandas as pd\n",
    "import matplotlib.pyplot as plt\n",
    "import numpy as np\n",
    "sns.set_style('whitegrid')\n",
    "%matplotlib inline\n",
    "import warnings\n",
    "warnings.filterwarnings('ignore')"
   ]
  },
  {
   "cell_type": "code",
   "execution_count": 2,
   "id": "automated-reviewer",
   "metadata": {},
   "outputs": [
    {
     "data": {
      "text/html": [
       "<div>\n",
       "<style scoped>\n",
       "    .dataframe tbody tr th:only-of-type {\n",
       "        vertical-align: middle;\n",
       "    }\n",
       "\n",
       "    .dataframe tbody tr th {\n",
       "        vertical-align: top;\n",
       "    }\n",
       "\n",
       "    .dataframe thead th {\n",
       "        text-align: right;\n",
       "    }\n",
       "</style>\n",
       "<table border=\"1\" class=\"dataframe\">\n",
       "  <thead>\n",
       "    <tr style=\"text-align: right;\">\n",
       "      <th></th>\n",
       "      <th>Producto</th>\n",
       "      <th>KG</th>\n",
       "      <th>Precio_Unit_Venta</th>\n",
       "      <th>Ganancia_USD</th>\n",
       "      <th>Ganancia_MXN</th>\n",
       "      <th>Costo_Unit_Manufactura</th>\n",
       "      <th>lbs</th>\n",
       "      <th>Costo_Tot_Manufactura</th>\n",
       "      <th>pca1</th>\n",
       "      <th>pca2</th>\n",
       "      <th>cluster</th>\n",
       "    </tr>\n",
       "  </thead>\n",
       "  <tbody>\n",
       "    <tr>\n",
       "      <th>0</th>\n",
       "      <td>1</td>\n",
       "      <td>50.0</td>\n",
       "      <td>178.13</td>\n",
       "      <td>468.00</td>\n",
       "      <td>8906.37</td>\n",
       "      <td>82.93</td>\n",
       "      <td>110.2250</td>\n",
       "      <td>4146.69</td>\n",
       "      <td>-0.771567</td>\n",
       "      <td>0.162418</td>\n",
       "      <td>0</td>\n",
       "    </tr>\n",
       "    <tr>\n",
       "      <th>1</th>\n",
       "      <td>2</td>\n",
       "      <td>200.0</td>\n",
       "      <td>147.37</td>\n",
       "      <td>1506.00</td>\n",
       "      <td>29474.98</td>\n",
       "      <td>64.86</td>\n",
       "      <td>440.9000</td>\n",
       "      <td>12972.60</td>\n",
       "      <td>-0.768883</td>\n",
       "      <td>0.166802</td>\n",
       "      <td>0</td>\n",
       "    </tr>\n",
       "    <tr>\n",
       "      <th>2</th>\n",
       "      <td>3</td>\n",
       "      <td>1848.0</td>\n",
       "      <td>1268.24</td>\n",
       "      <td>23464.50</td>\n",
       "      <td>282762.22</td>\n",
       "      <td>930.56</td>\n",
       "      <td>4073.9160</td>\n",
       "      <td>191058.11</td>\n",
       "      <td>-0.652545</td>\n",
       "      <td>0.102661</td>\n",
       "      <td>0</td>\n",
       "    </tr>\n",
       "    <tr>\n",
       "      <th>3</th>\n",
       "      <td>4</td>\n",
       "      <td>14471.0</td>\n",
       "      <td>2443.20</td>\n",
       "      <td>131541.39</td>\n",
       "      <td>2538009.49</td>\n",
       "      <td>2186.40</td>\n",
       "      <td>31901.3195</td>\n",
       "      <td>2260669.81</td>\n",
       "      <td>-0.062752</td>\n",
       "      <td>0.240804</td>\n",
       "      <td>0</td>\n",
       "    </tr>\n",
       "    <tr>\n",
       "      <th>4</th>\n",
       "      <td>5</td>\n",
       "      <td>33600.0</td>\n",
       "      <td>8119.64</td>\n",
       "      <td>256368.00</td>\n",
       "      <td>4957304.84</td>\n",
       "      <td>6299.00</td>\n",
       "      <td>74071.2000</td>\n",
       "      <td>4036627.33</td>\n",
       "      <td>0.796445</td>\n",
       "      <td>0.109035</td>\n",
       "      <td>0</td>\n",
       "    </tr>\n",
       "    <tr>\n",
       "      <th>...</th>\n",
       "      <td>...</td>\n",
       "      <td>...</td>\n",
       "      <td>...</td>\n",
       "      <td>...</td>\n",
       "      <td>...</td>\n",
       "      <td>...</td>\n",
       "      <td>...</td>\n",
       "      <td>...</td>\n",
       "      <td>...</td>\n",
       "      <td>...</td>\n",
       "      <td>...</td>\n",
       "    </tr>\n",
       "    <tr>\n",
       "      <th>223</th>\n",
       "      <td>233</td>\n",
       "      <td>3350.0</td>\n",
       "      <td>8321.58</td>\n",
       "      <td>37365.25</td>\n",
       "      <td>718760.51</td>\n",
       "      <td>2644.79</td>\n",
       "      <td>7385.0750</td>\n",
       "      <td>243813.53</td>\n",
       "      <td>-0.363477</td>\n",
       "      <td>-0.234227</td>\n",
       "      <td>0</td>\n",
       "    </tr>\n",
       "    <tr>\n",
       "      <th>224</th>\n",
       "      <td>234</td>\n",
       "      <td>7150.0</td>\n",
       "      <td>2156.53</td>\n",
       "      <td>39968.50</td>\n",
       "      <td>772638.51</td>\n",
       "      <td>1355.93</td>\n",
       "      <td>15762.1750</td>\n",
       "      <td>597091.31</td>\n",
       "      <td>-0.482179</td>\n",
       "      <td>0.128652</td>\n",
       "      <td>0</td>\n",
       "    </tr>\n",
       "    <tr>\n",
       "      <th>225</th>\n",
       "      <td>235</td>\n",
       "      <td>1475.0</td>\n",
       "      <td>12369.12</td>\n",
       "      <td>32107.50</td>\n",
       "      <td>618307.58</td>\n",
       "      <td>6558.39</td>\n",
       "      <td>3251.6375</td>\n",
       "      <td>333304.56</td>\n",
       "      <td>-0.141393</td>\n",
       "      <td>-0.622533</td>\n",
       "      <td>0</td>\n",
       "    </tr>\n",
       "    <tr>\n",
       "      <th>226</th>\n",
       "      <td>236</td>\n",
       "      <td>26600.0</td>\n",
       "      <td>1681.69</td>\n",
       "      <td>268948.00</td>\n",
       "      <td>2091619.68</td>\n",
       "      <td>1648.92</td>\n",
       "      <td>58639.7000</td>\n",
       "      <td>2088499.00</td>\n",
       "      <td>0.015785</td>\n",
       "      <td>0.391204</td>\n",
       "      <td>0</td>\n",
       "    </tr>\n",
       "    <tr>\n",
       "      <th>227</th>\n",
       "      <td>237</td>\n",
       "      <td>1250.0</td>\n",
       "      <td>1863.74</td>\n",
       "      <td>15537.50</td>\n",
       "      <td>299443.20</td>\n",
       "      <td>1360.55</td>\n",
       "      <td>2755.6250</td>\n",
       "      <td>241349.14</td>\n",
       "      <td>-0.624616</td>\n",
       "      <td>0.053829</td>\n",
       "      <td>0</td>\n",
       "    </tr>\n",
       "  </tbody>\n",
       "</table>\n",
       "<p>228 rows × 11 columns</p>\n",
       "</div>"
      ],
      "text/plain": [
       "     Producto       KG  Precio_Unit_Venta  Ganancia_USD  Ganancia_MXN  \\\n",
       "0           1     50.0             178.13        468.00       8906.37   \n",
       "1           2    200.0             147.37       1506.00      29474.98   \n",
       "2           3   1848.0            1268.24      23464.50     282762.22   \n",
       "3           4  14471.0            2443.20     131541.39    2538009.49   \n",
       "4           5  33600.0            8119.64     256368.00    4957304.84   \n",
       "..        ...      ...                ...           ...           ...   \n",
       "223       233   3350.0            8321.58      37365.25     718760.51   \n",
       "224       234   7150.0            2156.53      39968.50     772638.51   \n",
       "225       235   1475.0           12369.12      32107.50     618307.58   \n",
       "226       236  26600.0            1681.69     268948.00    2091619.68   \n",
       "227       237   1250.0            1863.74      15537.50     299443.20   \n",
       "\n",
       "     Costo_Unit_Manufactura         lbs  Costo_Tot_Manufactura      pca1  \\\n",
       "0                     82.93    110.2250                4146.69 -0.771567   \n",
       "1                     64.86    440.9000               12972.60 -0.768883   \n",
       "2                    930.56   4073.9160              191058.11 -0.652545   \n",
       "3                   2186.40  31901.3195             2260669.81 -0.062752   \n",
       "4                   6299.00  74071.2000             4036627.33  0.796445   \n",
       "..                      ...         ...                    ...       ...   \n",
       "223                 2644.79   7385.0750              243813.53 -0.363477   \n",
       "224                 1355.93  15762.1750              597091.31 -0.482179   \n",
       "225                 6558.39   3251.6375              333304.56 -0.141393   \n",
       "226                 1648.92  58639.7000             2088499.00  0.015785   \n",
       "227                 1360.55   2755.6250              241349.14 -0.624616   \n",
       "\n",
       "         pca2  cluster  \n",
       "0    0.162418        0  \n",
       "1    0.166802        0  \n",
       "2    0.102661        0  \n",
       "3    0.240804        0  \n",
       "4    0.109035        0  \n",
       "..        ...      ...  \n",
       "223 -0.234227        0  \n",
       "224  0.128652        0  \n",
       "225 -0.622533        0  \n",
       "226  0.391204        0  \n",
       "227  0.053829        0  \n",
       "\n",
       "[228 rows x 11 columns]"
      ]
     },
     "execution_count": 2,
     "metadata": {},
     "output_type": "execute_result"
    }
   ],
   "source": [
    "df_p = pd.read_csv('Clusters_Productos_KM.csv')\n",
    "df_p"
   ]
  },
  {
   "cell_type": "code",
   "execution_count": 3,
   "id": "regulation-secretariat",
   "metadata": {},
   "outputs": [
    {
     "data": {
      "text/plain": [
       "Producto                    int64\n",
       "KG                        float64\n",
       "Precio_Unit_Venta         float64\n",
       "Ganancia_USD              float64\n",
       "Ganancia_MXN              float64\n",
       "Costo_Unit_Manufactura    float64\n",
       "lbs                       float64\n",
       "Costo_Tot_Manufactura     float64\n",
       "pca1                      float64\n",
       "pca2                      float64\n",
       "cluster                     int64\n",
       "dtype: object"
      ]
     },
     "execution_count": 3,
     "metadata": {},
     "output_type": "execute_result"
    }
   ],
   "source": [
    "df_p.dtypes"
   ]
  },
  {
   "cell_type": "code",
   "execution_count": 4,
   "id": "still-swedish",
   "metadata": {},
   "outputs": [
    {
     "data": {
      "text/html": [
       "<div>\n",
       "<style scoped>\n",
       "    .dataframe tbody tr th:only-of-type {\n",
       "        vertical-align: middle;\n",
       "    }\n",
       "\n",
       "    .dataframe tbody tr th {\n",
       "        vertical-align: top;\n",
       "    }\n",
       "\n",
       "    .dataframe thead th {\n",
       "        text-align: right;\n",
       "    }\n",
       "</style>\n",
       "<table border=\"1\" class=\"dataframe\">\n",
       "  <thead>\n",
       "    <tr style=\"text-align: right;\">\n",
       "      <th></th>\n",
       "      <th>cluster</th>\n",
       "      <th>0</th>\n",
       "      <th>1</th>\n",
       "      <th>2</th>\n",
       "      <th>3</th>\n",
       "    </tr>\n",
       "  </thead>\n",
       "  <tbody>\n",
       "    <tr>\n",
       "      <th rowspan=\"8\" valign=\"top\">KG</th>\n",
       "      <th>count</th>\n",
       "      <td>207.00</td>\n",
       "      <td>3.00</td>\n",
       "      <td>1.0</td>\n",
       "      <td>17.00</td>\n",
       "    </tr>\n",
       "    <tr>\n",
       "      <th>mean</th>\n",
       "      <td>4102.14</td>\n",
       "      <td>168127.67</td>\n",
       "      <td>898411.0</td>\n",
       "      <td>101377.82</td>\n",
       "    </tr>\n",
       "    <tr>\n",
       "      <th>std</th>\n",
       "      <td>10235.87</td>\n",
       "      <td>42723.85</td>\n",
       "      <td>NaN</td>\n",
       "      <td>104187.26</td>\n",
       "    </tr>\n",
       "    <tr>\n",
       "      <th>min</th>\n",
       "      <td>19.00</td>\n",
       "      <td>122853.00</td>\n",
       "      <td>898411.0</td>\n",
       "      <td>1250.00</td>\n",
       "    </tr>\n",
       "    <tr>\n",
       "      <th>25%</th>\n",
       "      <td>177.00</td>\n",
       "      <td>148324.00</td>\n",
       "      <td>898411.0</td>\n",
       "      <td>48872.00</td>\n",
       "    </tr>\n",
       "    <tr>\n",
       "      <th>50%</th>\n",
       "      <td>525.00</td>\n",
       "      <td>173795.00</td>\n",
       "      <td>898411.0</td>\n",
       "      <td>80575.00</td>\n",
       "    </tr>\n",
       "    <tr>\n",
       "      <th>75%</th>\n",
       "      <td>2436.00</td>\n",
       "      <td>190765.00</td>\n",
       "      <td>898411.0</td>\n",
       "      <td>134329.00</td>\n",
       "    </tr>\n",
       "    <tr>\n",
       "      <th>max</th>\n",
       "      <td>75409.00</td>\n",
       "      <td>207735.00</td>\n",
       "      <td>898411.0</td>\n",
       "      <td>464625.00</td>\n",
       "    </tr>\n",
       "    <tr>\n",
       "      <th rowspan=\"8\" valign=\"top\">Ganancia_MXN</th>\n",
       "      <th>count</th>\n",
       "      <td>207.00</td>\n",
       "      <td>3.00</td>\n",
       "      <td>1.0</td>\n",
       "      <td>17.00</td>\n",
       "    </tr>\n",
       "    <tr>\n",
       "      <th>mean</th>\n",
       "      <td>547570.29</td>\n",
       "      <td>27904442.45</td>\n",
       "      <td>62280388.5</td>\n",
       "      <td>11278890.17</td>\n",
       "    </tr>\n",
       "    <tr>\n",
       "      <th>std</th>\n",
       "      <td>1188863.92</td>\n",
       "      <td>5611027.43</td>\n",
       "      <td>NaN</td>\n",
       "      <td>8969408.20</td>\n",
       "    </tr>\n",
       "    <tr>\n",
       "      <th>min</th>\n",
       "      <td>0.00</td>\n",
       "      <td>21451897.25</td>\n",
       "      <td>62280388.5</td>\n",
       "      <td>3563037.87</td>\n",
       "    </tr>\n",
       "    <tr>\n",
       "      <th>25%</th>\n",
       "      <td>31554.35</td>\n",
       "      <td>26037769.12</td>\n",
       "      <td>62280388.5</td>\n",
       "      <td>6228919.44</td>\n",
       "    </tr>\n",
       "    <tr>\n",
       "      <th>50%</th>\n",
       "      <td>115986.54</td>\n",
       "      <td>30623640.99</td>\n",
       "      <td>62280388.5</td>\n",
       "      <td>7699947.92</td>\n",
       "    </tr>\n",
       "    <tr>\n",
       "      <th>75%</th>\n",
       "      <td>522097.38</td>\n",
       "      <td>31130715.05</td>\n",
       "      <td>62280388.5</td>\n",
       "      <td>12802802.24</td>\n",
       "    </tr>\n",
       "    <tr>\n",
       "      <th>max</th>\n",
       "      <td>8018715.64</td>\n",
       "      <td>31637789.11</td>\n",
       "      <td>62280388.5</td>\n",
       "      <td>34662550.35</td>\n",
       "    </tr>\n",
       "  </tbody>\n",
       "</table>\n",
       "</div>"
      ],
      "text/plain": [
       "cluster                      0            1           2            3\n",
       "KG           count      207.00         3.00         1.0        17.00\n",
       "             mean      4102.14    168127.67    898411.0    101377.82\n",
       "             std      10235.87     42723.85         NaN    104187.26\n",
       "             min         19.00    122853.00    898411.0      1250.00\n",
       "             25%        177.00    148324.00    898411.0     48872.00\n",
       "             50%        525.00    173795.00    898411.0     80575.00\n",
       "             75%       2436.00    190765.00    898411.0    134329.00\n",
       "             max      75409.00    207735.00    898411.0    464625.00\n",
       "Ganancia_MXN count      207.00         3.00         1.0        17.00\n",
       "             mean    547570.29  27904442.45  62280388.5  11278890.17\n",
       "             std    1188863.92   5611027.43         NaN   8969408.20\n",
       "             min          0.00  21451897.25  62280388.5   3563037.87\n",
       "             25%      31554.35  26037769.12  62280388.5   6228919.44\n",
       "             50%     115986.54  30623640.99  62280388.5   7699947.92\n",
       "             75%     522097.38  31130715.05  62280388.5  12802802.24\n",
       "             max    8018715.64  31637789.11  62280388.5  34662550.35"
      ]
     },
     "execution_count": 4,
     "metadata": {},
     "output_type": "execute_result"
    }
   ],
   "source": [
    "df_p.groupby('cluster')[['KG','Ganancia_MXN']].describe().T.round(2)"
   ]
  },
  {
   "cell_type": "code",
   "execution_count": 5,
   "id": "retained-century",
   "metadata": {},
   "outputs": [
    {
     "data": {
      "text/html": [
       "<div>\n",
       "<style scoped>\n",
       "    .dataframe tbody tr th:only-of-type {\n",
       "        vertical-align: middle;\n",
       "    }\n",
       "\n",
       "    .dataframe tbody tr th {\n",
       "        vertical-align: top;\n",
       "    }\n",
       "\n",
       "    .dataframe thead th {\n",
       "        text-align: right;\n",
       "    }\n",
       "</style>\n",
       "<table border=\"1\" class=\"dataframe\">\n",
       "  <thead>\n",
       "    <tr style=\"text-align: right;\">\n",
       "      <th></th>\n",
       "      <th>cluster</th>\n",
       "      <th>0</th>\n",
       "      <th>1</th>\n",
       "      <th>2</th>\n",
       "      <th>3</th>\n",
       "    </tr>\n",
       "  </thead>\n",
       "  <tbody>\n",
       "    <tr>\n",
       "      <th rowspan=\"8\" valign=\"top\">Precio_Unit_Venta</th>\n",
       "      <th>count</th>\n",
       "      <td>207.00</td>\n",
       "      <td>3.00</td>\n",
       "      <td>1.00</td>\n",
       "      <td>17.00</td>\n",
       "    </tr>\n",
       "    <tr>\n",
       "      <th>mean</th>\n",
       "      <td>2615.40</td>\n",
       "      <td>98959.55</td>\n",
       "      <td>25995.48</td>\n",
       "      <td>22389.86</td>\n",
       "    </tr>\n",
       "    <tr>\n",
       "      <th>std</th>\n",
       "      <td>3408.48</td>\n",
       "      <td>29696.20</td>\n",
       "      <td>NaN</td>\n",
       "      <td>19415.10</td>\n",
       "    </tr>\n",
       "    <tr>\n",
       "      <th>min</th>\n",
       "      <td>0.00</td>\n",
       "      <td>78975.30</td>\n",
       "      <td>25995.48</td>\n",
       "      <td>1471.29</td>\n",
       "    </tr>\n",
       "    <tr>\n",
       "      <th>25%</th>\n",
       "      <td>354.48</td>\n",
       "      <td>81897.66</td>\n",
       "      <td>25995.48</td>\n",
       "      <td>4337.87</td>\n",
       "    </tr>\n",
       "    <tr>\n",
       "      <th>50%</th>\n",
       "      <td>1208.66</td>\n",
       "      <td>84820.02</td>\n",
       "      <td>25995.48</td>\n",
       "      <td>17710.60</td>\n",
       "    </tr>\n",
       "    <tr>\n",
       "      <th>75%</th>\n",
       "      <td>3993.91</td>\n",
       "      <td>108951.67</td>\n",
       "      <td>25995.48</td>\n",
       "      <td>37193.29</td>\n",
       "    </tr>\n",
       "    <tr>\n",
       "      <th>max</th>\n",
       "      <td>20271.77</td>\n",
       "      <td>133083.33</td>\n",
       "      <td>25995.48</td>\n",
       "      <td>62238.28</td>\n",
       "    </tr>\n",
       "    <tr>\n",
       "      <th rowspan=\"8\" valign=\"top\">Costo_Unit_Manufactura</th>\n",
       "      <th>count</th>\n",
       "      <td>207.00</td>\n",
       "      <td>3.00</td>\n",
       "      <td>1.00</td>\n",
       "      <td>17.00</td>\n",
       "    </tr>\n",
       "    <tr>\n",
       "      <th>mean</th>\n",
       "      <td>1712.29</td>\n",
       "      <td>65180.64</td>\n",
       "      <td>18372.01</td>\n",
       "      <td>14354.94</td>\n",
       "    </tr>\n",
       "    <tr>\n",
       "      <th>std</th>\n",
       "      <td>2217.40</td>\n",
       "      <td>17538.59</td>\n",
       "      <td>NaN</td>\n",
       "      <td>14342.47</td>\n",
       "    </tr>\n",
       "    <tr>\n",
       "      <th>min</th>\n",
       "      <td>31.17</td>\n",
       "      <td>48693.25</td>\n",
       "      <td>18372.01</td>\n",
       "      <td>51.70</td>\n",
       "    </tr>\n",
       "    <tr>\n",
       "      <th>25%</th>\n",
       "      <td>215.95</td>\n",
       "      <td>55966.47</td>\n",
       "      <td>18372.01</td>\n",
       "      <td>2112.65</td>\n",
       "    </tr>\n",
       "    <tr>\n",
       "      <th>50%</th>\n",
       "      <td>747.99</td>\n",
       "      <td>63239.70</td>\n",
       "      <td>18372.01</td>\n",
       "      <td>7862.93</td>\n",
       "    </tr>\n",
       "    <tr>\n",
       "      <th>75%</th>\n",
       "      <td>2287.82</td>\n",
       "      <td>73424.33</td>\n",
       "      <td>18372.01</td>\n",
       "      <td>24107.95</td>\n",
       "    </tr>\n",
       "    <tr>\n",
       "      <th>max</th>\n",
       "      <td>11779.59</td>\n",
       "      <td>83608.96</td>\n",
       "      <td>18372.01</td>\n",
       "      <td>42831.12</td>\n",
       "    </tr>\n",
       "  </tbody>\n",
       "</table>\n",
       "</div>"
      ],
      "text/plain": [
       "cluster                              0          1         2         3\n",
       "Precio_Unit_Venta      count    207.00       3.00      1.00     17.00\n",
       "                       mean    2615.40   98959.55  25995.48  22389.86\n",
       "                       std     3408.48   29696.20       NaN  19415.10\n",
       "                       min        0.00   78975.30  25995.48   1471.29\n",
       "                       25%      354.48   81897.66  25995.48   4337.87\n",
       "                       50%     1208.66   84820.02  25995.48  17710.60\n",
       "                       75%     3993.91  108951.67  25995.48  37193.29\n",
       "                       max    20271.77  133083.33  25995.48  62238.28\n",
       "Costo_Unit_Manufactura count    207.00       3.00      1.00     17.00\n",
       "                       mean    1712.29   65180.64  18372.01  14354.94\n",
       "                       std     2217.40   17538.59       NaN  14342.47\n",
       "                       min       31.17   48693.25  18372.01     51.70\n",
       "                       25%      215.95   55966.47  18372.01   2112.65\n",
       "                       50%      747.99   63239.70  18372.01   7862.93\n",
       "                       75%     2287.82   73424.33  18372.01  24107.95\n",
       "                       max    11779.59   83608.96  18372.01  42831.12"
      ]
     },
     "execution_count": 5,
     "metadata": {},
     "output_type": "execute_result"
    }
   ],
   "source": [
    "df_p.groupby('cluster')[['Precio_Unit_Venta','Costo_Unit_Manufactura']].describe().T.round(2)"
   ]
  },
  {
   "cell_type": "code",
   "execution_count": 6,
   "id": "regular-output",
   "metadata": {},
   "outputs": [
    {
     "data": {
      "image/png": "[encoded data removed]",
      "text/plain": [
       "<Figure size 432x288 with 1 Axes>"
      ]
     },
     "metadata": {
      "needs_background": "light"
     },
     "output_type": "display_data"
    }
   ],
   "source": [
    "df_c0= df_p.drop(df_p[df_p['cluster'] != 0].index)\n",
    "df_c0 = df_c0.reset_index(drop=True)\n",
    "\n",
    "box_c0_KG = sns.boxplot(x = df_c0['KG'], palette = \"Accent\")\n",
    "box_c0_KG.set(xlabel = 'KG', title = 'Distribución KG vendidos Productos del Cluster 0');"
   ]
  },
  {
   "cell_type": "code",
   "execution_count": 7,
   "id": "instructional-disposition",
   "metadata": {},
   "outputs": [
    {
     "data": {
      "image/png": "[encoded data removed]",
      "text/plain": [
       "<Figure size 432x288 with 1 Axes>"
      ]
     },
     "metadata": {
      "needs_background": "light"
     },
     "output_type": "display_data"
    }
   ],
   "source": [
    "box_c0_GMXN = sns.boxplot(x = df_c0['Ganancia_MXN'], palette = \"Dark2\")\n",
    "box_c0_GMXN.set(xlabel = 'Ganancia_MXN', title = 'Distribución Ganancia_MXN de Productos del Cluster 0');"
   ]
  },
  {
   "cell_type": "code",
   "execution_count": 8,
   "id": "fewer-equation",
   "metadata": {},
   "outputs": [
    {
     "data": {
      "image/png": "[encoded data removed]",
      "text/plain": [
       "<Figure size 432x288 with 1 Axes>"
      ]
     },
     "metadata": {
      "needs_background": "light"
     },
     "output_type": "display_data"
    }
   ],
   "source": [
    "df_c1= df_p.drop(df_p[df_p['cluster'] != 1].index)\n",
    "df_c1 = df_c1.reset_index(drop=True)\n",
    "#df_c1_no_outlyer_KG = df_c1[df_c1['KG'] < 200000]\n",
    "\n",
    "box_c1_KG = sns.boxplot(x = df_c1['KG'], palette = \"cool\")\n",
    "box_c1_KG.set(xlabel = 'KG', title = 'Distribución KG vendidos Productos del Cluster 1');"
   ]
  },
  {
   "cell_type": "code",
   "execution_count": 9,
   "id": "external-theorem",
   "metadata": {},
   "outputs": [
    {
     "data": {
      "image/png": "[encoded data removed]",
      "text/plain": [
       "<Figure size 432x288 with 1 Axes>"
      ]
     },
     "metadata": {
      "needs_background": "light"
     },
     "output_type": "display_data"
    }
   ],
   "source": [
    "#df_c1_no_outlyer_GMXN = df_c1[df_c1['Ganancia_MXN'] < 20000000]\n",
    "box_c1_GMXN = sns.boxplot(x = df_c1['Ganancia_MXN'], palette = \"Blues_r\")\n",
    "box_c1_GMXN.set(xlabel = 'Ganancia_MXN', title = 'Distribución Ganancia_MXN de Productos del Cluster 0');"
   ]
  },
  {
   "cell_type": "code",
   "execution_count": 10,
   "id": "annual-concentrate",
   "metadata": {},
   "outputs": [
    {
     "data": {
      "image/png": "[encoded data removed]",
      "text/plain": [
       "<Figure size 432x288 with 1 Axes>"
      ]
     },
     "metadata": {
      "needs_background": "light"
     },
     "output_type": "display_data"
    }
   ],
   "source": [
    "df_c3= df_p.drop(df_p[df_p['cluster'] != 3].index)\n",
    "df_c3 = df_c3.reset_index(drop=True)\n",
    "#df_c3_no_outlyer_KG = df_c3[df_c3['KG'] < 70000]\n",
    "\n",
    "box_c3_KG = sns.boxplot(x = df_c3['KG'], palette = \"Wistia\")\n",
    "box_c3_KG.set(xlabel = 'KG', title = 'Distribución KG vendidos Productos del Cluster 3');"
   ]
  },
  {
   "cell_type": "code",
   "execution_count": 11,
   "id": "second-priest",
   "metadata": {},
   "outputs": [
    {
     "data": {
      "image/png": "[encoded data removed]",
      "text/plain": [
       "<Figure size 432x288 with 1 Axes>"
      ]
     },
     "metadata": {
      "needs_background": "light"
     },
     "output_type": "display_data"
    }
   ],
   "source": [
    "#df_c3_no_outlyer_GMXN = df_c3[df_c3['Ganancia_MXN'] < 20000000]\n",
    "box_c3_GMXN = sns.boxplot(x = df_c3['Ganancia_MXN'], palette = \"Oranges\")\n",
    "box_c3_GMXN.set(xlabel = 'Ganancia_MXN', title = 'Distribución Ganancia_MXN de Productos del Cluster 3');"
   ]
  },
  {
   "cell_type": "code",
   "execution_count": 12,
   "id": "unlimited-flight",
   "metadata": {},
   "outputs": [
    {
     "data": {
      "text/html": [
       "<div>\n",
       "<style scoped>\n",
       "    .dataframe tbody tr th:only-of-type {\n",
       "        vertical-align: middle;\n",
       "    }\n",
       "\n",
       "    .dataframe tbody tr th {\n",
       "        vertical-align: top;\n",
       "    }\n",
       "\n",
       "    .dataframe thead th {\n",
       "        text-align: right;\n",
       "    }\n",
       "</style>\n",
       "<table border=\"1\" class=\"dataframe\">\n",
       "  <thead>\n",
       "    <tr style=\"text-align: right;\">\n",
       "      <th></th>\n",
       "      <th>cluster</th>\n",
       "      <th>Producto</th>\n",
       "    </tr>\n",
       "  </thead>\n",
       "  <tbody>\n",
       "    <tr>\n",
       "      <th>0</th>\n",
       "      <td>0</td>\n",
       "      <td>1</td>\n",
       "    </tr>\n",
       "    <tr>\n",
       "      <th>1</th>\n",
       "      <td>0</td>\n",
       "      <td>2</td>\n",
       "    </tr>\n",
       "    <tr>\n",
       "      <th>2</th>\n",
       "      <td>0</td>\n",
       "      <td>3</td>\n",
       "    </tr>\n",
       "    <tr>\n",
       "      <th>3</th>\n",
       "      <td>0</td>\n",
       "      <td>4</td>\n",
       "    </tr>\n",
       "    <tr>\n",
       "      <th>4</th>\n",
       "      <td>0</td>\n",
       "      <td>5</td>\n",
       "    </tr>\n",
       "    <tr>\n",
       "      <th>...</th>\n",
       "      <td>...</td>\n",
       "      <td>...</td>\n",
       "    </tr>\n",
       "    <tr>\n",
       "      <th>202</th>\n",
       "      <td>0</td>\n",
       "      <td>233</td>\n",
       "    </tr>\n",
       "    <tr>\n",
       "      <th>203</th>\n",
       "      <td>0</td>\n",
       "      <td>234</td>\n",
       "    </tr>\n",
       "    <tr>\n",
       "      <th>204</th>\n",
       "      <td>0</td>\n",
       "      <td>235</td>\n",
       "    </tr>\n",
       "    <tr>\n",
       "      <th>205</th>\n",
       "      <td>0</td>\n",
       "      <td>236</td>\n",
       "    </tr>\n",
       "    <tr>\n",
       "      <th>206</th>\n",
       "      <td>0</td>\n",
       "      <td>237</td>\n",
       "    </tr>\n",
       "  </tbody>\n",
       "</table>\n",
       "<p>207 rows × 2 columns</p>\n",
       "</div>"
      ],
      "text/plain": [
       "     cluster  Producto\n",
       "0          0         1\n",
       "1          0         2\n",
       "2          0         3\n",
       "3          0         4\n",
       "4          0         5\n",
       "..       ...       ...\n",
       "202        0       233\n",
       "203        0       234\n",
       "204        0       235\n",
       "205        0       236\n",
       "206        0       237\n",
       "\n",
       "[207 rows x 2 columns]"
      ]
     },
     "execution_count": 12,
     "metadata": {},
     "output_type": "execute_result"
    }
   ],
   "source": [
    "df_0 = df_p[df_p['cluster'] == 0]\n",
    "df_0 = df_0.reset_index(drop=True)\n",
    "df_0 = df_0[['cluster','Producto']]\n",
    "df_0"
   ]
  },
  {
   "cell_type": "code",
   "execution_count": 13,
   "id": "established-spice",
   "metadata": {},
   "outputs": [
    {
     "data": {
      "text/html": [
       "<div>\n",
       "<style scoped>\n",
       "    .dataframe tbody tr th:only-of-type {\n",
       "        vertical-align: middle;\n",
       "    }\n",
       "\n",
       "    .dataframe tbody tr th {\n",
       "        vertical-align: top;\n",
       "    }\n",
       "\n",
       "    .dataframe thead th {\n",
       "        text-align: right;\n",
       "    }\n",
       "</style>\n",
       "<table border=\"1\" class=\"dataframe\">\n",
       "  <thead>\n",
       "    <tr style=\"text-align: right;\">\n",
       "      <th></th>\n",
       "      <th>cluster</th>\n",
       "      <th>Producto</th>\n",
       "    </tr>\n",
       "  </thead>\n",
       "  <tbody>\n",
       "    <tr>\n",
       "      <th>0</th>\n",
       "      <td>1</td>\n",
       "      <td>107</td>\n",
       "    </tr>\n",
       "    <tr>\n",
       "      <th>1</th>\n",
       "      <td>1</td>\n",
       "      <td>133</td>\n",
       "    </tr>\n",
       "    <tr>\n",
       "      <th>2</th>\n",
       "      <td>1</td>\n",
       "      <td>140</td>\n",
       "    </tr>\n",
       "  </tbody>\n",
       "</table>\n",
       "</div>"
      ],
      "text/plain": [
       "   cluster  Producto\n",
       "0        1       107\n",
       "1        1       133\n",
       "2        1       140"
      ]
     },
     "execution_count": 13,
     "metadata": {},
     "output_type": "execute_result"
    }
   ],
   "source": [
    "df_1 = df_p[df_p['cluster'] == 1]\n",
    "df_1 = df_1.reset_index(drop=True)\n",
    "df_1 = df_1[['cluster','Producto']]\n",
    "df_1"
   ]
  },
  {
   "cell_type": "code",
   "execution_count": 14,
   "id": "sharing-adoption",
   "metadata": {},
   "outputs": [
    {
     "data": {
      "text/html": [
       "<div>\n",
       "<style scoped>\n",
       "    .dataframe tbody tr th:only-of-type {\n",
       "        vertical-align: middle;\n",
       "    }\n",
       "\n",
       "    .dataframe tbody tr th {\n",
       "        vertical-align: top;\n",
       "    }\n",
       "\n",
       "    .dataframe thead th {\n",
       "        text-align: right;\n",
       "    }\n",
       "</style>\n",
       "<table border=\"1\" class=\"dataframe\">\n",
       "  <thead>\n",
       "    <tr style=\"text-align: right;\">\n",
       "      <th></th>\n",
       "      <th>cluster</th>\n",
       "      <th>Producto</th>\n",
       "    </tr>\n",
       "  </thead>\n",
       "  <tbody>\n",
       "    <tr>\n",
       "      <th>0</th>\n",
       "      <td>2</td>\n",
       "      <td>219</td>\n",
       "    </tr>\n",
       "  </tbody>\n",
       "</table>\n",
       "</div>"
      ],
      "text/plain": [
       "   cluster  Producto\n",
       "0        2       219"
      ]
     },
     "execution_count": 14,
     "metadata": {},
     "output_type": "execute_result"
    }
   ],
   "source": [
    "df_2 = df_p[df_p['cluster'] == 2]\n",
    "df_2 = df_2.reset_index(drop=True)\n",
    "df_2 = df_2[['cluster','Producto']]\n",
    "df_2"
   ]
  },
  {
   "cell_type": "code",
   "execution_count": 15,
   "id": "informative-fence",
   "metadata": {},
   "outputs": [
    {
     "data": {
      "text/html": [
       "<div>\n",
       "<style scoped>\n",
       "    .dataframe tbody tr th:only-of-type {\n",
       "        vertical-align: middle;\n",
       "    }\n",
       "\n",
       "    .dataframe tbody tr th {\n",
       "        vertical-align: top;\n",
       "    }\n",
       "\n",
       "    .dataframe thead th {\n",
       "        text-align: right;\n",
       "    }\n",
       "</style>\n",
       "<table border=\"1\" class=\"dataframe\">\n",
       "  <thead>\n",
       "    <tr style=\"text-align: right;\">\n",
       "      <th></th>\n",
       "      <th>cluster</th>\n",
       "      <th>Producto</th>\n",
       "    </tr>\n",
       "  </thead>\n",
       "  <tbody>\n",
       "    <tr>\n",
       "      <th>0</th>\n",
       "      <td>3</td>\n",
       "      <td>18</td>\n",
       "    </tr>\n",
       "    <tr>\n",
       "      <th>1</th>\n",
       "      <td>3</td>\n",
       "      <td>47</td>\n",
       "    </tr>\n",
       "    <tr>\n",
       "      <th>2</th>\n",
       "      <td>3</td>\n",
       "      <td>58</td>\n",
       "    </tr>\n",
       "    <tr>\n",
       "      <th>3</th>\n",
       "      <td>3</td>\n",
       "      <td>100</td>\n",
       "    </tr>\n",
       "    <tr>\n",
       "      <th>4</th>\n",
       "      <td>3</td>\n",
       "      <td>102</td>\n",
       "    </tr>\n",
       "    <tr>\n",
       "      <th>5</th>\n",
       "      <td>3</td>\n",
       "      <td>112</td>\n",
       "    </tr>\n",
       "    <tr>\n",
       "      <th>6</th>\n",
       "      <td>3</td>\n",
       "      <td>117</td>\n",
       "    </tr>\n",
       "    <tr>\n",
       "      <th>7</th>\n",
       "      <td>3</td>\n",
       "      <td>118</td>\n",
       "    </tr>\n",
       "    <tr>\n",
       "      <th>8</th>\n",
       "      <td>3</td>\n",
       "      <td>125</td>\n",
       "    </tr>\n",
       "    <tr>\n",
       "      <th>9</th>\n",
       "      <td>3</td>\n",
       "      <td>126</td>\n",
       "    </tr>\n",
       "    <tr>\n",
       "      <th>10</th>\n",
       "      <td>3</td>\n",
       "      <td>127</td>\n",
       "    </tr>\n",
       "    <tr>\n",
       "      <th>11</th>\n",
       "      <td>3</td>\n",
       "      <td>130</td>\n",
       "    </tr>\n",
       "    <tr>\n",
       "      <th>12</th>\n",
       "      <td>3</td>\n",
       "      <td>131</td>\n",
       "    </tr>\n",
       "    <tr>\n",
       "      <th>13</th>\n",
       "      <td>3</td>\n",
       "      <td>134</td>\n",
       "    </tr>\n",
       "    <tr>\n",
       "      <th>14</th>\n",
       "      <td>3</td>\n",
       "      <td>173</td>\n",
       "    </tr>\n",
       "    <tr>\n",
       "      <th>15</th>\n",
       "      <td>3</td>\n",
       "      <td>207</td>\n",
       "    </tr>\n",
       "    <tr>\n",
       "      <th>16</th>\n",
       "      <td>3</td>\n",
       "      <td>220</td>\n",
       "    </tr>\n",
       "  </tbody>\n",
       "</table>\n",
       "</div>"
      ],
      "text/plain": [
       "    cluster  Producto\n",
       "0         3        18\n",
       "1         3        47\n",
       "2         3        58\n",
       "3         3       100\n",
       "4         3       102\n",
       "5         3       112\n",
       "6         3       117\n",
       "7         3       118\n",
       "8         3       125\n",
       "9         3       126\n",
       "10        3       127\n",
       "11        3       130\n",
       "12        3       131\n",
       "13        3       134\n",
       "14        3       173\n",
       "15        3       207\n",
       "16        3       220"
      ]
     },
     "execution_count": 15,
     "metadata": {},
     "output_type": "execute_result"
    }
   ],
   "source": [
    "df_3 = df_p[df_p['cluster'] == 3]\n",
    "df_3 = df_3.reset_index(drop=True)\n",
    "df_3 = df_3[['cluster','Producto']]\n",
    "df_3"
   ]
  },
  {
   "cell_type": "markdown",
   "id": "official-alias",
   "metadata": {},
   "source": [
    "#### Gráfica de Porcentajes"
   ]
  },
  {
   "cell_type": "code",
   "execution_count": 38,
   "id": "weekly-throw",
   "metadata": {},
   "outputs": [
    {
     "name": "stdout",
     "output_type": "stream",
     "text": [
      "(228,)\n",
      "   y_variable  percentage_count\n",
      "3           2          0.004386\n",
      "2           1          0.013158\n",
      "1           3          0.074561\n",
      "0           0          0.907895\n"
     ]
    },
    {
     "data": {
      "image/png": "[encoded data removed]",
      "text/plain": [
       "<Figure size 432x288 with 1 Axes>"
      ]
     },
     "metadata": {
      "needs_background": "light"
     },
     "output_type": "display_data"
    }
   ],
   "source": [
    "y = df_p['cluster']\n",
    "print(y.shape)\n",
    "print(y.value_counts(normalize = True)\n",
    "      .reset_index().rename(columns = {'index': 'y_variable', 'cluster': 'percentage_count'})\n",
    "      .sort_values(by = \"percentage_count\"))\n",
    "labels, counts = np.unique(y, return_counts=True)\n",
    "plt.bar(labels, counts, align='center', color = \"c\")\n",
    "plt.title(\"Frecuencia Clusters: Productos\")\n",
    "plt.xlabel(\"Cluster\")\n",
    "plt.ylabel(\"Counts\")\n",
    "plt.xticks(labels)\n",
    "plt.show()"
   ]
  },
  {
   "cell_type": "code",
   "execution_count": 18,
   "id": "impossible-digit",
   "metadata": {},
   "outputs": [
    {
     "data": {
      "image/png": "[encoded data removed]",
      "text/plain": [
       "<Figure size 432x288 with 1 Axes>"
      ]
     },
     "metadata": {
      "needs_background": "light"
     },
     "output_type": "display_data"
    }
   ],
   "source": [
    "y_binary = np.where(y !=0 , 1, 0 ) # Esta será nuestra nueva variable objetivo.\n",
    "# Ahora pasamos de un problema de clasificación múltiple a un problema de clasificación binario.\n",
    "\n",
    "labels, counts = np.unique(y_binary, return_counts=True)\n",
    "plt.bar(labels, counts, align='center', color = \"b\")\n",
    "plt.title(\"Categorías (binaria)\")\n",
    "plt.xlabel(\"Categoría\")\n",
    "plt.ylabel(\"Counts\")\n",
    "plt.xticks(labels)\n",
    "plt.show()"
   ]
  },
  {
   "cell_type": "code",
   "execution_count": 19,
   "id": "developmental-professional",
   "metadata": {},
   "outputs": [],
   "source": [
    "df_p_dropped = df_p.drop(columns = ['cluster', 'Producto','pca1','pca2'], axis = 1)"
   ]
  },
  {
   "cell_type": "code",
   "execution_count": 20,
   "id": "visible-genealogy",
   "metadata": {},
   "outputs": [
    {
     "data": {
      "image/png": "[encoded data removed]",
      "text/plain": [
       "<Figure size 720x720 with 2 Axes>"
      ]
     },
     "metadata": {
      "needs_background": "light"
     },
     "output_type": "display_data"
    }
   ],
   "source": [
    "corr_spearman = df_p_dropped.corr(method = 'spearman')\n",
    "fig, ax = plt.subplots(figsize=(10, 10))\n",
    "sns.heatmap(corr_spearman, annot = True, fmt=\".3f\").set_title(\n",
    "    \"Spearman's correlation coefficient\")\n",
    "plt.show()"
   ]
  },
  {
   "cell_type": "code",
   "execution_count": 21,
   "id": "selective-fourth",
   "metadata": {},
   "outputs": [],
   "source": [
    "from sklearn.model_selection import train_test_split\n",
    "from sklearn.preprocessing import StandardScaler\n",
    "from sklearn.preprocessing import PowerTransformer"
   ]
  },
  {
   "cell_type": "code",
   "execution_count": 22,
   "id": "plastic-refund",
   "metadata": {},
   "outputs": [
    {
     "name": "stdout",
     "output_type": "stream",
     "text": [
      "(228, 7)\n",
      "                        count        mean         std      min       25%  \\\n",
      "KG                      228.0    17435.79    72699.47    19.00    200.00   \n",
      "Precio_Unit_Venta       228.0     5460.04    13824.56     0.00    397.72   \n",
      "Ganancia_USD            228.0   278316.79  1363069.49     0.00   2636.50   \n",
      "Ganancia_MXN            228.0  1978429.38  6362199.48     0.00  39233.53   \n",
      "Costo_Unit_Manufactura  228.0     3563.12     9201.08    31.17    225.68   \n",
      "lbs                     228.0    38437.19   160265.99    41.89    440.90   \n",
      "Costo_Tot_Manufactura   228.0  1324034.78  4340083.64  1396.60  23957.06   \n",
      "\n",
      "                              50%        75%          max  \n",
      "KG                         812.50    4737.75    898411.00  \n",
      "Precio_Unit_Venta         1394.74    4866.06    133083.33  \n",
      "Ganancia_USD              9452.50   45935.02  17583173.20  \n",
      "Ganancia_MXN            150572.23  724023.06  62280388.50  \n",
      "Costo_Unit_Manufactura     950.08    3098.10     83608.96  \n",
      "lbs                       1791.16   10444.37   1980547.04  \n",
      "Costo_Tot_Manufactura    94932.34  547145.29  49103542.68  \n"
     ]
    }
   ],
   "source": [
    "X = df_p_dropped\n",
    "print(X.shape)\n",
    "print(X.describe().T.round(2))"
   ]
  },
  {
   "cell_type": "code",
   "execution_count": 23,
   "id": "conservative-large",
   "metadata": {},
   "outputs": [
    {
     "name": "stdout",
     "output_type": "stream",
     "text": [
      "   count  mean  std   min   25%   50%   75%   max\n",
      "0  228.0   0.0  1.0 -2.48 -0.77  0.01  0.78  2.16\n",
      "1  228.0  -0.0  1.0 -3.39 -0.71 -0.03  0.71  2.93\n",
      "2  228.0   0.0  1.0 -4.04 -0.66 -0.14  0.51  2.87\n",
      "3  228.0  -0.0  1.0 -3.99 -0.69 -0.13  0.55  2.81\n",
      "4  228.0  -0.0  1.0 -2.17 -0.82  0.08  0.78  2.49\n",
      "5  228.0  -0.0  1.0 -2.49 -0.77  0.01  0.78  2.16\n",
      "6  228.0   0.0  1.0 -2.49 -0.76 -0.06  0.73  2.30\n"
     ]
    }
   ],
   "source": [
    "pt = PowerTransformer()\n",
    "X_scaled = pt.fit_transform(X)\n",
    "\n",
    "df_scaled = pd.DataFrame(X_scaled)\n",
    "print(df_scaled.describe().T.round(2))"
   ]
  },
  {
   "cell_type": "markdown",
   "id": "dried-clearance",
   "metadata": {},
   "source": [
    "### Aprendizaje Supervisado"
   ]
  },
  {
   "cell_type": "code",
   "execution_count": 24,
   "id": "automotive-effectiveness",
   "metadata": {},
   "outputs": [
    {
     "name": "stdout",
     "output_type": "stream",
     "text": [
      "X_train shape: 171\n",
      "y_train shape: 171\n",
      "X_test shape:57\n",
      "y_test shape:57\n"
     ]
    }
   ],
   "source": [
    "X_train, X_test, y_train, y_test = train_test_split(X_scaled, y_binary, test_size = 0.25, random_state = 22)\n",
    "\n",
    "print(\"X_train shape: \"+str(X_train.shape[0]), \"y_train shape: \"+str(y_train.shape[0]), sep = \"\\n\")\n",
    "print(\"X_test shape:\"+str(X_test.shape[0]), \"y_test shape:\"+str(y_test.shape[0]), sep = \"\\n\")"
   ]
  },
  {
   "cell_type": "code",
   "execution_count": 25,
   "id": "dynamic-nickel",
   "metadata": {},
   "outputs": [],
   "source": [
    "from sklearn.metrics import confusion_matrix\n",
    "\n",
    "def calcularAccuracy(TP, TN, FP, FN):\n",
    "    accuracy = (TP + TN) / (TP + TN + FP + FN)\n",
    "    accuracy = accuracy * 100\n",
    "    return accuracy\n",
    "def calcularSensibilidad(TP, TN, FP, FN):\n",
    "    sensibilidad = TP / (TP + FN)\n",
    "    sensibilidad = sensibilidad * 100\n",
    "    return sensibilidad\n",
    "def calcularEspecificidad(TP, TN, FP, FN):\n",
    "    especificidad = TN / (TN + FP)\n",
    "    especificidad = especificidad * 100\n",
    "    return especificidad\n",
    "\n",
    "def evaluar(y_test, y_pred):\n",
    "    resultado = confusion_matrix(y_test, y_pred)\n",
    "    print(resultado)\n",
    "    (TN, FP, FN, TP) = resultado.ravel()\n",
    "    print(\"True positives: \"+str(TP))\n",
    "    print(\"True negatives: \"+str(TN))\n",
    "    print(\"False positives: \"+str(FP))\n",
    "    print(\"False negative: \"+str(FN))\n",
    "\n",
    "    acc = calcularAccuracy(TP, TN, FP, FN)\n",
    "    sen = calcularSensibilidad(TP, TN, FP, FN)\n",
    "    spec = calcularEspecificidad(TP, TN, FP, FN)\n",
    "    print(\"Precision:\"+str(acc.round(2))+\"%\")\n",
    "    print(\"Sensibilidad:\"+str(sen.round(2))+\"%\")\n",
    "    print(\"Especificidad:\"+str(spec.round(2))+\"%\")"
   ]
  },
  {
   "cell_type": "code",
   "execution_count": 26,
   "id": "prescription-commonwealth",
   "metadata": {},
   "outputs": [
    {
     "name": "stdout",
     "output_type": "stream",
     "text": [
      "[[53  0]\n",
      " [ 1  3]]\n",
      "True positives: 3\n",
      "True negatives: 53\n",
      "False positives: 0\n",
      "False negative: 1\n",
      "Precision:98.25%\n",
      "Sensibilidad:75.0%\n",
      "Especificidad:100.0%\n"
     ]
    }
   ],
   "source": [
    "from sklearn.neighbors import KNeighborsClassifier\n",
    "\n",
    "KNN = KNeighborsClassifier() #Genera el modelo\n",
    "KNN.fit(X_train, y_train)   #Entrena el modelo\n",
    "y_pred_knn = KNN.predict(X_test)   #Genera la predicción\n",
    "evaluar(y_test, y_pred_knn)"
   ]
  },
  {
   "cell_type": "code",
   "execution_count": 27,
   "id": "regulated-packet",
   "metadata": {},
   "outputs": [
    {
     "name": "stdout",
     "output_type": "stream",
     "text": [
      "Precisión del modelo en el subconjunto de entrenamiento: 0.99\n",
      "Precisión del modelo en el subconjunto de prueba: 0.98\n"
     ]
    }
   ],
   "source": [
    "print(\"Precisión del modelo en el subconjunto de entrenamiento: {}\".format(KNN.score(X_train, y_train).round(2)))\n",
    "print(\"Precisión del modelo en el subconjunto de prueba: {}\".format(KNN.score(X_test, y_test).round(2)))"
   ]
  },
  {
   "cell_type": "code",
   "execution_count": 28,
   "id": "hungry-edmonton",
   "metadata": {},
   "outputs": [
    {
     "name": "stdout",
     "output_type": "stream",
     "text": [
      "[[50  3]\n",
      " [ 1  3]]\n",
      "True positives: 3\n",
      "True negatives: 50\n",
      "False positives: 3\n",
      "False negative: 1\n",
      "Precision:92.98%\n",
      "Sensibilidad:75.0%\n",
      "Especificidad:94.34%\n"
     ]
    }
   ],
   "source": [
    "from sklearn.naive_bayes import GaussianNB\n",
    "\n",
    "NaiveBayes = GaussianNB()\n",
    "NaiveBayes.fit(X_train, y_train) #Entrena el modelo\n",
    "y_pred_nb = NaiveBayes.predict(X_test) #Genera la predicción\n",
    "evaluar(y_test, y_pred_nb)"
   ]
  },
  {
   "cell_type": "code",
   "execution_count": 29,
   "id": "twelve-exploration",
   "metadata": {},
   "outputs": [
    {
     "name": "stdout",
     "output_type": "stream",
     "text": [
      "Precisión del modelo en el subconjunto de entrenamiento: 0.96\n",
      "Precisión del modelo en el subconjunto de prueba: 0.93\n"
     ]
    }
   ],
   "source": [
    "print(\"Precisión del modelo en el subconjunto de entrenamiento: {}\".format(NaiveBayes.score(X_train, y_train).round(2)))\n",
    "print(\"Precisión del modelo en el subconjunto de prueba: {}\".format(NaiveBayes.score(X_test, y_test).round(2)))"
   ]
  },
  {
   "cell_type": "code",
   "execution_count": 30,
   "id": "understood-spectacular",
   "metadata": {},
   "outputs": [
    {
     "name": "stdout",
     "output_type": "stream",
     "text": [
      "[[53  0]\n",
      " [ 1  3]]\n",
      "True positives: 3\n",
      "True negatives: 53\n",
      "False positives: 0\n",
      "False negative: 1\n",
      "Precision:98.25%\n",
      "Sensibilidad:75.0%\n",
      "Especificidad:100.0%\n"
     ]
    }
   ],
   "source": [
    "from sklearn.linear_model import LogisticRegression\n",
    "\n",
    "LogisticRegression = LogisticRegression()\n",
    "LogisticRegression.fit(X_train, y_train) #Entrena el modelo\n",
    "y_pred_lr = LogisticRegression.predict(X_test) #Genera la predicción\n",
    "evaluar(y_test, y_pred_lr)"
   ]
  },
  {
   "cell_type": "code",
   "execution_count": 31,
   "id": "floppy-robertson",
   "metadata": {},
   "outputs": [
    {
     "name": "stdout",
     "output_type": "stream",
     "text": [
      "Precisión del modelo en el subconjunto de entrenamiento: 0.99\n",
      "Precisión del modelo en el subconjunto de prueba: 0.98\n"
     ]
    }
   ],
   "source": [
    "print(\"Precisión del modelo en el subconjunto de entrenamiento: {}\".format(LogisticRegression.score(X_train, y_train).round(2)))\n",
    "print(\"Precisión del modelo en el subconjunto de prueba: {}\".format(LogisticRegression.score(X_test, y_test).round(2)))"
   ]
  },
  {
   "cell_type": "code",
   "execution_count": 32,
   "id": "bright-nature",
   "metadata": {},
   "outputs": [
    {
     "name": "stdout",
     "output_type": "stream",
     "text": [
      "[[53  0]\n",
      " [ 1  3]]\n",
      "True positives: 3\n",
      "True negatives: 53\n",
      "False positives: 0\n",
      "False negative: 1\n",
      "Precision:98.25%\n",
      "Sensibilidad:75.0%\n",
      "Especificidad:100.0%\n"
     ]
    }
   ],
   "source": [
    "from sklearn.svm import SVC\n",
    "\n",
    "SVC = SVC()\n",
    "SVC.fit(X_train, y_train) #Entrena el modelo\n",
    "y_pred_svc = SVC.predict(X_test) #Genera la predición\n",
    "evaluar(y_test, y_pred_svc)"
   ]
  },
  {
   "cell_type": "code",
   "execution_count": 33,
   "id": "suburban-glass",
   "metadata": {},
   "outputs": [
    {
     "name": "stdout",
     "output_type": "stream",
     "text": [
      "Precisión del modelo en el subconjunto de entrenamiento: 0.99\n",
      "Precisión del modelo en el subconjunto de prueba: 0.98\n"
     ]
    }
   ],
   "source": [
    "print(\"Precisión del modelo en el subconjunto de entrenamiento: {}\".format(SVC.score(X_train, y_train).round(2)))\n",
    "print(\"Precisión del modelo en el subconjunto de prueba: {}\".format(SVC.score(X_test, y_test).round(2)))"
   ]
  },
  {
   "cell_type": "code",
   "execution_count": 34,
   "id": "optional-graph",
   "metadata": {},
   "outputs": [
    {
     "name": "stdout",
     "output_type": "stream",
     "text": [
      "[[53  0]\n",
      " [ 1  3]]\n",
      "True positives: 3\n",
      "True negatives: 53\n",
      "False positives: 0\n",
      "False negative: 1\n",
      "Precision:98.25%\n",
      "Sensibilidad:75.0%\n",
      "Especificidad:100.0%\n"
     ]
    }
   ],
   "source": [
    "from sklearn.ensemble import RandomForestClassifier\n",
    "\n",
    "RFC = RandomForestClassifier()\n",
    "RFC.fit(X_train, y_train) #Entrena el modelo\n",
    "y_pred_rfc = RFC.predict(X_test) #Genera la predicción\n",
    "evaluar(y_test, y_pred_rfc)"
   ]
  },
  {
   "cell_type": "code",
   "execution_count": 35,
   "id": "cognitive-flooring",
   "metadata": {},
   "outputs": [
    {
     "name": "stdout",
     "output_type": "stream",
     "text": [
      "Precisión del modelo en el subconjunto de entrenamiento: 1.0\n",
      "Precisión del modelo en el subconjunto de prueba: 0.98\n"
     ]
    }
   ],
   "source": [
    "print(\"Precisión del modelo en el subconjunto de entrenamiento: {}\".format(RFC.score(X_train, y_train).round(2)))\n",
    "print(\"Precisión del modelo en el subconjunto de prueba: {}\".format(RFC.score(X_test, y_test).round(2)))"
   ]
  },
  {
   "cell_type": "code",
   "execution_count": 36,
   "id": "cutting-coast",
   "metadata": {},
   "outputs": [
    {
     "name": "stdout",
     "output_type": "stream",
     "text": [
      "[[52  1]\n",
      " [ 0  4]]\n",
      "True positives: 4\n",
      "True negatives: 52\n",
      "False positives: 1\n",
      "False negative: 0\n",
      "Precision:98.25%\n",
      "Sensibilidad:100.0%\n",
      "Especificidad:98.11%\n"
     ]
    }
   ],
   "source": [
    "from sklearn.neural_network import MLPClassifier\n",
    "\n",
    "ANN = MLPClassifier()\n",
    "ANN.fit(X_train, y_train)\n",
    "y_pred_ann = ANN.predict(X_test)\n",
    "evaluar(y_test, y_pred_ann)"
   ]
  },
  {
   "cell_type": "code",
   "execution_count": 37,
   "id": "hazardous-definition",
   "metadata": {},
   "outputs": [
    {
     "name": "stdout",
     "output_type": "stream",
     "text": [
      "Precisión del modelo en el subconjunto de entrenamiento: 0.97\n",
      "Precisión del modelo en el subconjunto de prueba: 0.98\n"
     ]
    }
   ],
   "source": [
    "print(\"Precisión del modelo en el subconjunto de entrenamiento: {}\".format(ANN.score(X_train, y_train).round(2)))\n",
    "print(\"Precisión del modelo en el subconjunto de prueba: {}\".format(ANN.score(X_test, y_test).round(2)))"
   ]
  },
  {
   "cell_type": "code",
   "execution_count": null,
   "id": "sunrise-failing",
   "metadata": {},
   "outputs": [],
   "source": []
  }
 ],
 "metadata": {
  "kernelspec": {
   "display_name": "Python 3",
   "language": "python",
   "name": "python3"
  },
  "language_info": {
   "codemirror_mode": {
    "name": "ipython",
    "version": 3
   },
   "file_extension": ".py",
   "mimetype": "text/x-python",
   "name": "python",
   "nbconvert_exporter": "python",
   "pygments_lexer": "ipython3",
   "version": "3.9.2"
  }
 },
 "nbformat": 4,
 "nbformat_minor": 5
}
